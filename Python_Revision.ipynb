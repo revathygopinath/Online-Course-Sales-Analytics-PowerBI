{
  "cells": [
    {
      "cell_type": "markdown",
      "metadata": {
        "id": "view-in-github",
        "colab_type": "text"
      },
      "source": [
        "<a href=\"https://colab.research.google.com/github/revathygopinath/Online-Course-Sales-Analytics-PowerBI/blob/main/Python_Revision.ipynb\" target=\"_parent\"><img src=\"https://colab.research.google.com/assets/colab-badge.svg\" alt=\"Open In Colab\"/></a>"
      ]
    },
    {
      "cell_type": "markdown",
      "metadata": {
        "id": "U6OC5G19HdLS"
      },
      "source": [
        "DAY 1 - Basics, Loops, Numbers"
      ]
    },
    {
      "cell_type": "code",
      "execution_count": null,
      "metadata": {
        "colab": {
          "base_uri": "https://localhost:8080/"
        },
        "id": "WozALWKUHV_J",
        "outputId": "f3e13f0b-179a-4d11-87e6-6786742f6a38"
      },
      "outputs": [
        {
          "name": "stdout",
          "output_type": "stream",
          "text": [
            "enter the number: 1\n",
            "1\n"
          ]
        }
      ],
      "source": [
        "## Factorial using for loop\n",
        "n = int(input(\"enter the number: \"))\n",
        "fact=1\n",
        "for i in range(1,n+1):\n",
        "  fact =fact*i\n",
        "print(fact)"
      ]
    },
    {
      "cell_type": "code",
      "execution_count": null,
      "metadata": {
        "id": "FAwJzs2K6MYf"
      },
      "outputs": [],
      "source": [
        "## Factorial using while loop\n",
        "n = int(input('enter the num: '))\n",
        "i =1\n",
        "fact=1\n",
        "while  i<=n:\n",
        "  fact=fact*i\n",
        "  i=i+1\n",
        "print(fact)"
      ]
    },
    {
      "cell_type": "code",
      "execution_count": null,
      "metadata": {
        "id": "txUTR39R6Rln"
      },
      "outputs": [],
      "source": [
        "## Factorial using Function\n",
        "## Recursive means a function calls itself in order to solve a problem.\n",
        "def fact(n):\n",
        "    if n<0:\n",
        "      return \"factorial is not defined for negative numbers\"\n",
        "    elif n==0 or n==1:\n",
        "      return 1\n",
        "    else:\n",
        "      return n*fact(n-1)\n"
      ]
    },
    {
      "cell_type": "code",
      "execution_count": null,
      "metadata": {
        "id": "TpNZ9UoR6bXT"
      },
      "outputs": [],
      "source": [
        "#Write a Python program using recursion to find the nth Fibonacci number\n",
        "\n",
        "def fibo(n):\n",
        "    if n <= 0:\n",
        "        return \"Fibonacci not defined\"\n",
        "    elif n == 1:\n",
        "        return 0\n",
        "    elif n == 2:\n",
        "        return 1\n",
        "    else:\n",
        "        return fibo(n-1) + fibo(n-2)"
      ]
    },
    {
      "cell_type": "code",
      "execution_count": null,
      "metadata": {
        "colab": {
          "base_uri": "https://localhost:8080/"
        },
        "id": "JKL1iF43Djft",
        "outputId": "356a02d5-4397-4e07-c105-32bf65036c3d"
      },
      "outputs": [
        {
          "data": {
            "text/plain": [
              "3"
            ]
          },
          "execution_count": 34,
          "metadata": {},
          "output_type": "execute_result"
        }
      ],
      "source": [
        "fibo(5)"
      ]
    },
    {
      "cell_type": "code",
      "execution_count": null,
      "metadata": {
        "id": "kjTyC44l81lw"
      },
      "outputs": [],
      "source": [
        "# Print the entire Fibonacci sequence up to n terms using recursion:\n",
        "\n",
        "def fibo(n):\n",
        "  if n<=0:\n",
        "    return []\n",
        "  elif n==1:\n",
        "    return [0]\n",
        "  elif n==2:\n",
        "    return [0,1]\n",
        "  fibo_seq =[0,1]\n",
        "\n",
        "  for i in range(3,n+1):\n",
        "    fibo_seq.append(fibo_seq[-1]+fibo_seq[-2])\n",
        "  return fibo_seq\n",
        "\n",
        "\n"
      ]
    },
    {
      "cell_type": "code",
      "execution_count": null,
      "metadata": {
        "colab": {
          "base_uri": "https://localhost:8080/"
        },
        "id": "onUYDXuCADb6",
        "outputId": "ea2ed826-c690-45bf-da2a-f7c1300a5ac2"
      },
      "outputs": [
        {
          "name": "stdout",
          "output_type": "stream",
          "text": [
            "1\n"
          ]
        }
      ],
      "source": [
        "print(fibo(3))"
      ]
    },
    {
      "cell_type": "code",
      "execution_count": null,
      "metadata": {
        "colab": {
          "base_uri": "https://localhost:8080/",
          "height": 128
        },
        "id": "gc5d37nfAEsR",
        "outputId": "85bb478a-5178-4d7e-87e9-c75764479ae6"
      },
      "outputs": [
        {
          "name": "stdout",
          "output_type": "stream",
          "text": [
            "enter the number: 5\n"
          ]
        },
        {
          "ename": "SyntaxError",
          "evalue": "'return' outside function (ipython-input-2455428126.py, line 5)",
          "output_type": "error",
          "traceback": [
            "\u001b[0;36m  File \u001b[0;32m\"/tmp/ipython-input-2455428126.py\"\u001b[0;36m, line \u001b[0;32m5\u001b[0m\n\u001b[0;31m    return (n(n+1))/2\u001b[0m\n\u001b[0m    ^\u001b[0m\n\u001b[0;31mSyntaxError\u001b[0m\u001b[0;31m:\u001b[0m 'return' outside function\n"
          ]
        }
      ],
      "source": [
        "# Sum of n natural numbers using for loop\n",
        "n = int(input(\"enter the number: \"))\n",
        "sum=0\n",
        "for i in range(1,n):\n",
        "  return (n(n+1))/2\n",
        "print(sum)"
      ]
    },
    {
      "cell_type": "code",
      "execution_count": null,
      "metadata": {
        "colab": {
          "base_uri": "https://localhost:8080/"
        },
        "id": "qD1Q_TkEDQIj",
        "outputId": "fff332da-f7b1-44a7-8bd1-d9046473028a"
      },
      "outputs": [
        {
          "name": "stdout",
          "output_type": "stream",
          "text": [
            "enter the number: 5\n",
            "15\n"
          ]
        }
      ],
      "source": [
        "# Sum of n natural numbers using for loop\n",
        "## You can’t use return inside a for loop unless you are inside a function.\n",
        "#The formula (n(n+1))/2 is fine, but you wrote it incorrectly (should be n * (n+1) // 2).\n",
        "#If you want to use a loop, you should add numbers one by one instead of directly using the formula.\n",
        "\n",
        "n = int(input(\"enter the number: \"))\n",
        "sum=0\n",
        "for i in range(1,n+1):\n",
        "  sum =i+sum\n",
        "print(sum)"
      ]
    },
    {
      "cell_type": "code",
      "execution_count": null,
      "metadata": {
        "colab": {
          "base_uri": "https://localhost:8080/"
        },
        "id": "TjGvccM3CuA9",
        "outputId": "30aac84c-4c45-4d4c-e71e-ecd201a8391b"
      },
      "outputs": [
        {
          "name": "stdout",
          "output_type": "stream",
          "text": [
            "enter the number: 5\n",
            "15\n"
          ]
        }
      ],
      "source": [
        "# Sum of n natural numbers using While loop\n",
        "n = int(input(\"enter the number: \"))\n",
        "sum =0\n",
        "i=1\n",
        "while i<=n:\n",
        "  sum = sum+i\n",
        "  i=i+1\n",
        "print(sum)\n",
        "\n"
      ]
    },
    {
      "cell_type": "code",
      "execution_count": null,
      "metadata": {
        "colab": {
          "base_uri": "https://localhost:8080/"
        },
        "id": "q3EV45-FEgiW",
        "outputId": "a356de2a-0982-4e71-df57-d76d25a2f883"
      },
      "outputs": [
        {
          "name": "stdout",
          "output_type": "stream",
          "text": [
            "15\n"
          ]
        }
      ],
      "source": [
        "# Sum of n natural numbers using Using loop inside function\n",
        "def sum(n):\n",
        "  sum=0\n",
        "  for i in range(1,n+1):\n",
        "    sum =sum+i\n",
        "  return sum\n",
        "\n",
        "print(sum(5))\n"
      ]
    },
    {
      "cell_type": "code",
      "execution_count": null,
      "metadata": {
        "colab": {
          "base_uri": "https://localhost:8080/"
        },
        "id": "yqszUneAImlA",
        "outputId": "26113c8f-b542-4f88-cab2-9883035c1e57"
      },
      "outputs": [
        {
          "name": "stdout",
          "output_type": "stream",
          "text": [
            "15\n"
          ]
        }
      ],
      "source": [
        "# Method 1: Using formula inside function\n",
        "def sum1(n):\n",
        "  return n*(n+1)//2\n",
        "print(sum1(5))\n"
      ]
    },
    {
      "cell_type": "code",
      "execution_count": null,
      "metadata": {
        "id": "J1M0sgTYKf2S"
      },
      "outputs": [],
      "source": [
        "#Recursion → if/else base case + function calls itself\n",
        "#Loop → for / while\n",
        "#Formula → direct shortcut equation"
      ]
    },
    {
      "cell_type": "code",
      "execution_count": null,
      "metadata": {
        "colab": {
          "base_uri": "https://localhost:8080/"
        },
        "id": "fUYEYNNTS8-V",
        "outputId": "9aebd413-61f1-4108-c069-795f6af75207"
      },
      "outputs": [
        {
          "data": {
            "text/plain": [
              "15"
            ]
          },
          "execution_count": 33,
          "metadata": {},
          "output_type": "execute_result"
        }
      ],
      "source": [
        "# sum using recursive\n",
        "def sum2(n):\n",
        "  if n<=0:\n",
        "    return 0\n",
        "  else:\n",
        "    return n*(n+1)//2\n",
        "\n",
        "sum2(5)"
      ]
    },
    {
      "cell_type": "code",
      "execution_count": null,
      "metadata": {
        "colab": {
          "base_uri": "https://localhost:8080/"
        },
        "id": "IIfLbdBiL39w",
        "outputId": "10dc9205-0cb6-4a22-c7b9-fb52c1666aee"
      },
      "outputs": [
        {
          "name": "stdout",
          "output_type": "stream",
          "text": [
            "enter the string: revu\n",
            "string is not a palindrome\n"
          ]
        }
      ],
      "source": [
        "# Write a simple python pgm to check a string palindrom or not\n",
        "\n",
        "\n",
        "string =input(\"enter the string: \")\n",
        "if string ==string[::-1]:\n",
        "  print(\"string is a palindrome\")\n",
        "else:\n",
        "  print(\"string is not a palindrome\")"
      ]
    },
    {
      "cell_type": "code",
      "execution_count": null,
      "metadata": {
        "colab": {
          "base_uri": "https://localhost:8080/"
        },
        "id": "GK_1QoNjMxXo",
        "outputId": "bea3e5c3-0e2b-4025-809c-ffb1337908a6"
      },
      "outputs": [
        {
          "name": "stdout",
          "output_type": "stream",
          "text": [
            "enter the number: 121\n",
            "the number is palindrome\n"
          ]
        }
      ],
      "source": [
        "# Check a number is palindrom or not\n",
        "\n",
        "number = input(\"enter the number: \")\n",
        "num_str =str(number)\n",
        "if num_str ==num_str[::-1]:\n",
        "  print(\"the number is palindrome\")\n",
        "else:\n",
        "  print(\"the number is not a palindrome\")"
      ]
    },
    {
      "cell_type": "code",
      "execution_count": null,
      "metadata": {
        "id": "g9bQ-QtGN0Ce"
      },
      "outputs": [],
      "source": [
        "# Write a Python program to reverse a given integer.\n",
        "#521%10-----> output as 1, (to get the last digit)\n",
        "#520//10----> output as 52, (to remove the last digit)\n",
        "\n",
        "\"\"\"Extract the last digit with n % 10.\n",
        "\n",
        "Add it to the reversed number (shift left with rev * 10).\n",
        "\n",
        "Remove last digit using n // 10.\n",
        "\n",
        "Repeat until number becomes 0.\"\"\""
      ]
    },
    {
      "cell_type": "code",
      "execution_count": null,
      "metadata": {
        "colab": {
          "base_uri": "https://localhost:8080/"
        },
        "id": "Vsq9DCXMFDaL",
        "outputId": "c3595d92-a0f3-4f02-e924-3049571371b6"
      },
      "outputs": [
        {
          "name": "stdout",
          "output_type": "stream",
          "text": [
            "4321\n",
            "1\n"
          ]
        }
      ],
      "source": [
        "def reverse_int_iter(n):\n",
        "    rev = 0\n",
        "    while n > 0:\n",
        "        digit = n % 10        # get last digit\n",
        "        rev = rev * 10 + digit  # build reversed number\n",
        "        n //= 10              # remove last digit\n",
        "    return rev\n",
        "\n",
        "# Example\n",
        "print(reverse_int_iter(1234))   # 4321\n",
        "print(reverse_int_iter(100))    # 1\n"
      ]
    },
    {
      "cell_type": "code",
      "execution_count": null,
      "metadata": {
        "colab": {
          "base_uri": "https://localhost:8080/"
        },
        "id": "Irax1WIFO83x",
        "outputId": "c4716982-05a8-444c-b952-4ac1d38f14fe"
      },
      "outputs": [
        {
          "data": {
            "text/plain": [
              "5"
            ]
          },
          "execution_count": 7,
          "metadata": {},
          "output_type": "execute_result"
        }
      ],
      "source": [
        "5%10"
      ]
    },
    {
      "cell_type": "code",
      "execution_count": null,
      "metadata": {
        "colab": {
          "base_uri": "https://localhost:8080/"
        },
        "id": "154rvgNaPEQi",
        "outputId": "113b1465-f98c-465a-af14-fa1cf2a87f55"
      },
      "outputs": [
        {
          "data": {
            "text/plain": [
              "0"
            ]
          },
          "execution_count": 8,
          "metadata": {},
          "output_type": "execute_result"
        }
      ],
      "source": [
        "5//10"
      ]
    },
    {
      "cell_type": "code",
      "execution_count": null,
      "metadata": {
        "colab": {
          "base_uri": "https://localhost:8080/"
        },
        "id": "57NIqwSOENMB",
        "outputId": "192ddaab-3c12-4e1b-f478-6bc67159bdd5"
      },
      "outputs": [
        {
          "name": "stdout",
          "output_type": "stream",
          "text": [
            "True\n",
            "False\n"
          ]
        }
      ],
      "source": [
        "import math\n",
        "\n",
        "def is_prime(n):\n",
        "    if n <= 1:\n",
        "        return False\n",
        "    for i in range(2, int(n**0.5) + 1):  # check up to √n\n",
        "        if n % i == 0:\n",
        "            return False\n",
        "    return True\n",
        "\n",
        "# Example usage\n",
        "print(is_prime(7))   # True (prime)\n",
        "print(is_prime(10))  # False (not prime)\n",
        "\n"
      ]
    },
    {
      "cell_type": "code",
      "execution_count": null,
      "metadata": {
        "colab": {
          "base_uri": "https://localhost:8080/",
          "height": 36
        },
        "id": "MhnStPbz1xA4",
        "outputId": "b7e04a43-959f-4a25-de46-9cc654bcc158"
      },
      "outputs": [
        {
          "data": {
            "application/vnd.google.colaboratory.intrinsic+json": {
              "type": "string"
            },
            "text/plain": [
              "'n is a prime'"
            ]
          },
          "execution_count": 48,
          "metadata": {},
          "output_type": "execute_result"
        }
      ],
      "source": [
        "is_prime(5)\n"
      ]
    },
    {
      "cell_type": "markdown",
      "metadata": {
        "id": "1X7mRYSDOoWj"
      },
      "source": [
        "Day 2 - Strings\n"
      ]
    },
    {
      "cell_type": "code",
      "execution_count": null,
      "metadata": {
        "colab": {
          "base_uri": "https://localhost:8080/",
          "height": 36
        },
        "id": "3z5UATBiOqei",
        "outputId": "e931f727-e906-471b-ccfa-8294d0c31003"
      },
      "outputs": [
        {
          "data": {
            "application/vnd.google.colaboratory.intrinsic+json": {
              "type": "string"
            },
            "text/plain": [
              "'o'"
            ]
          },
          "execution_count": 3,
          "metadata": {},
          "output_type": "execute_result"
        }
      ],
      "source": [
        "# Strings are immutable → once created, you cannot change a character directly.\n",
        "\n",
        "s =\"hello\"\n",
        "\n",
        "#Indexing\n",
        "s[0] #---->Will print \"h\"\n",
        "s[-1] # ----> will print last chara"
      ]
    },
    {
      "cell_type": "code",
      "execution_count": null,
      "metadata": {
        "colab": {
          "base_uri": "https://localhost:8080/",
          "height": 36
        },
        "id": "jaBUz6qYPFkr",
        "outputId": "ea478c33-8e6e-4290-f1ca-d9ce9b5a764c"
      },
      "outputs": [
        {
          "data": {
            "application/vnd.google.colaboratory.intrinsic+json": {
              "type": "string"
            },
            "text/plain": [
              "'olleh'"
            ]
          },
          "execution_count": 5,
          "metadata": {},
          "output_type": "execute_result"
        }
      ],
      "source": [
        "# Slicing\n",
        "\n",
        "s[1:4] #---> Will print chara from 1st to 3rd\n",
        "s[:4]\n",
        "\n",
        "s[2:]\n",
        "\n",
        "s[::-1]"
      ]
    },
    {
      "cell_type": "code",
      "execution_count": null,
      "metadata": {
        "colab": {
          "base_uri": "https://localhost:8080/",
          "height": 36
        },
        "id": "Rt1uLiJQP724",
        "outputId": "b85aa278-0f33-4786-b1a9-9f5342ed0762"
      },
      "outputs": [
        {
          "data": {
            "application/vnd.google.colaboratory.intrinsic+json": {
              "type": "string"
            },
            "text/plain": [
              "'  DATA SCIENCE  '"
            ]
          },
          "execution_count": 6,
          "metadata": {},
          "output_type": "execute_result"
        }
      ],
      "source": [
        "txt = \"  Data Science  \"\n",
        "\n",
        "txt.upper()"
      ]
    },
    {
      "cell_type": "code",
      "execution_count": null,
      "metadata": {
        "colab": {
          "base_uri": "https://localhost:8080/",
          "height": 36
        },
        "id": "WCYoOuwlQEgx",
        "outputId": "04b82e80-7193-45b7-caa1-b79e5c72b87b"
      },
      "outputs": [
        {
          "data": {
            "application/vnd.google.colaboratory.intrinsic+json": {
              "type": "string"
            },
            "text/plain": [
              "'  data science  '"
            ]
          },
          "execution_count": 7,
          "metadata": {},
          "output_type": "execute_result"
        }
      ],
      "source": [
        "txt.lower()"
      ]
    },
    {
      "cell_type": "code",
      "execution_count": null,
      "metadata": {
        "colab": {
          "base_uri": "https://localhost:8080/",
          "height": 36
        },
        "id": "ZMaEJQFDQG-Y",
        "outputId": "21fbd21f-e2ff-4df5-b86a-1655cd9766d9"
      },
      "outputs": [
        {
          "data": {
            "application/vnd.google.colaboratory.intrinsic+json": {
              "type": "string"
            },
            "text/plain": [
              "'  Data Science  '"
            ]
          },
          "execution_count": 8,
          "metadata": {},
          "output_type": "execute_result"
        }
      ],
      "source": [
        "txt.title()"
      ]
    },
    {
      "cell_type": "code",
      "execution_count": null,
      "metadata": {
        "colab": {
          "base_uri": "https://localhost:8080/",
          "height": 36
        },
        "id": "NZ7SII7zQKCf",
        "outputId": "eab3e9e8-b4d9-42e1-c834-569dc5d48203"
      },
      "outputs": [
        {
          "data": {
            "application/vnd.google.colaboratory.intrinsic+json": {
              "type": "string"
            },
            "text/plain": [
              "'  data science  '"
            ]
          },
          "execution_count": 9,
          "metadata": {},
          "output_type": "execute_result"
        }
      ],
      "source": [
        "txt.capitalize()"
      ]
    },
    {
      "cell_type": "code",
      "execution_count": null,
      "metadata": {
        "colab": {
          "base_uri": "https://localhost:8080/",
          "height": 36
        },
        "id": "Lsriat1dQOTW",
        "outputId": "eba39c65-04a1-47bd-fe57-6ae4b0a28221"
      },
      "outputs": [
        {
          "data": {
            "application/vnd.google.colaboratory.intrinsic+json": {
              "type": "string"
            },
            "text/plain": [
              "'Data Science'"
            ]
          },
          "execution_count": 10,
          "metadata": {},
          "output_type": "execute_result"
        }
      ],
      "source": [
        "txt.strip()  # To remove space"
      ]
    },
    {
      "cell_type": "code",
      "execution_count": null,
      "metadata": {
        "colab": {
          "base_uri": "https://localhost:8080/",
          "height": 36
        },
        "id": "5_NVM6c0QU6C",
        "outputId": "58950427-f853-4a11-bc34-260ccf6df77e"
      },
      "outputs": [
        {
          "data": {
            "application/vnd.google.colaboratory.intrinsic+json": {
              "type": "string"
            },
            "text/plain": [
              "'Data Science  '"
            ]
          },
          "execution_count": 11,
          "metadata": {},
          "output_type": "execute_result"
        }
      ],
      "source": [
        "txt.lstrip()  # to remove left space"
      ]
    },
    {
      "cell_type": "code",
      "execution_count": null,
      "metadata": {
        "id": "81Pfr4RVQbcs"
      },
      "outputs": [],
      "source": [
        "txt.rstrip() #to remove right space"
      ]
    },
    {
      "cell_type": "code",
      "execution_count": null,
      "metadata": {
        "colab": {
          "base_uri": "https://localhost:8080/"
        },
        "id": "f1uNyJKKQlHz",
        "outputId": "2ecc70ac-cd09-4ad8-8f7d-62a421fb4d2e"
      },
      "outputs": [
        {
          "data": {
            "text/plain": [
              "['Data', 'Science']"
            ]
          },
          "execution_count": 12,
          "metadata": {},
          "output_type": "execute_result"
        }
      ],
      "source": [
        "txt.split()"
      ]
    },
    {
      "cell_type": "code",
      "execution_count": null,
      "metadata": {
        "colab": {
          "base_uri": "https://localhost:8080/"
        },
        "id": "SV-EMWBaRJaq",
        "outputId": "4395e7f4-72da-4f17-8f01-2bcbd946a274"
      },
      "outputs": [
        {
          "name": "stdout",
          "output_type": "stream",
          "text": [
            " - -D-a-t-a- -S-c-i-e-n-c-e- - \n"
          ]
        }
      ],
      "source": [
        "join = \"-\".join(txt)\n",
        "print(join)"
      ]
    },
    {
      "cell_type": "code",
      "execution_count": null,
      "metadata": {
        "colab": {
          "base_uri": "https://localhost:8080/"
        },
        "id": "ltE8MqIRRS0b",
        "outputId": "5659448f-7611-4328-e276-39e8f88a3f34"
      },
      "outputs": [
        {
          "data": {
            "text/plain": [
              "2"
            ]
          },
          "execution_count": 16,
          "metadata": {},
          "output_type": "execute_result"
        }
      ],
      "source": [
        "txt.find(\"Data\")"
      ]
    },
    {
      "cell_type": "code",
      "execution_count": null,
      "metadata": {
        "colab": {
          "base_uri": "https://localhost:8080/",
          "height": 36
        },
        "id": "73fV-PrCR0dB",
        "outputId": "d942934b-9978-4738-b524-905353289b78"
      },
      "outputs": [
        {
          "data": {
            "application/vnd.google.colaboratory.intrinsic+json": {
              "type": "string"
            },
            "text/plain": [
              "'  Data1 Science  '"
            ]
          },
          "execution_count": 17,
          "metadata": {},
          "output_type": "execute_result"
        }
      ],
      "source": [
        "txt.replace(\"Data\", \"Data1\")"
      ]
    },
    {
      "cell_type": "code",
      "execution_count": null,
      "metadata": {
        "colab": {
          "base_uri": "https://localhost:8080/"
        },
        "id": "HhrW3VYRR8qU",
        "outputId": "929df68f-9c01-44c1-b012-d8c23c7da925"
      },
      "outputs": [
        {
          "name": "stdout",
          "output_type": "stream",
          "text": [
            "h\n",
            "e\n",
            "l\n",
            "l\n",
            "o\n"
          ]
        }
      ],
      "source": [
        "for i in \"hello\":\n",
        "  print(i)"
      ]
    },
    {
      "cell_type": "code",
      "execution_count": null,
      "metadata": {
        "colab": {
          "base_uri": "https://localhost:8080/"
        },
        "id": "lmOdmtM4SIdl",
        "outputId": "784c784b-9966-4377-86b8-382587be56f8"
      },
      "outputs": [
        {
          "data": {
            "text/plain": [
              "1"
            ]
          },
          "execution_count": 20,
          "metadata": {},
          "output_type": "execute_result"
        }
      ],
      "source": [
        "s = \"Revathy\"\n",
        "s.count(\"a\")"
      ]
    },
    {
      "cell_type": "code",
      "execution_count": null,
      "metadata": {
        "colab": {
          "base_uri": "https://localhost:8080/"
        },
        "id": "gGbBG83USULl",
        "outputId": "6f1ed18f-59ad-4360-e9cb-e536e1f2b83a"
      },
      "outputs": [
        {
          "data": {
            "text/plain": [
              "True"
            ]
          },
          "execution_count": 21,
          "metadata": {},
          "output_type": "execute_result"
        }
      ],
      "source": [
        "s.startswith(\"R\")"
      ]
    },
    {
      "cell_type": "code",
      "execution_count": null,
      "metadata": {
        "colab": {
          "base_uri": "https://localhost:8080/"
        },
        "id": "f9QkoFDISdc_",
        "outputId": "c57d3214-5554-44ea-9759-c217eb4b3207"
      },
      "outputs": [
        {
          "data": {
            "text/plain": [
              "False"
            ]
          },
          "execution_count": 23,
          "metadata": {},
          "output_type": "execute_result"
        }
      ],
      "source": [
        "s.endswith(\"Y\")"
      ]
    },
    {
      "cell_type": "code",
      "execution_count": null,
      "metadata": {
        "colab": {
          "base_uri": "https://localhost:8080/"
        },
        "id": "ErAkQw-vTAOh",
        "outputId": "9961bb53-1ee6-4382-bc5a-0e0c30b684ca"
      },
      "outputs": [
        {
          "name": "stdout",
          "output_type": "stream",
          "text": [
            "yhtaveR\n"
          ]
        }
      ],
      "source": [
        "# writing a small program to reverse your own name (or any word) using at least two methods from above.\n",
        "\n",
        "n = \"Revathy\"\n",
        "reversed = n[::-1]\n",
        "print(reversed)"
      ]
    },
    {
      "cell_type": "code",
      "execution_count": null,
      "metadata": {
        "colab": {
          "base_uri": "https://localhost:8080/"
        },
        "id": "9nOop0H4Tfrz",
        "outputId": "0a8b9655-a568-428e-a6fe-0797a4f71fd7"
      },
      "outputs": [
        {
          "name": "stdout",
          "output_type": "stream",
          "text": [
            "name is a palindrome\n"
          ]
        }
      ],
      "source": [
        "# Write a Python program to check if a given string is a palindrome or not.\n",
        "\n",
        "name =\"Madam\"\n",
        "\n",
        "def palindrome(name):\n",
        "   name =name.lower()\n",
        "   if name == name[::-1]:\n",
        "     print(\"name is a palindrome\")\n",
        "   else:\n",
        "    print(\"name is not a palindrome\")\n",
        "palindrome(name)"
      ]
    },
    {
      "cell_type": "code",
      "execution_count": null,
      "metadata": {
        "colab": {
          "base_uri": "https://localhost:8080/"
        },
        "id": "yKt-LmiWVIMg",
        "outputId": "a4eda561-0472-41e3-9071-2fb73aa6fb66"
      },
      "outputs": [
        {
          "name": "stdout",
          "output_type": "stream",
          "text": [
            "vowels : 2\n",
            "consonants: 5\n"
          ]
        }
      ],
      "source": [
        "# Write a Python program that counts the number of vowels and consonants in a given string.\n",
        "\n",
        "name =\"Revathy\"\n",
        "\n",
        "def count_vowels_consonants(name):\n",
        "  words = name.lower()\n",
        "  vowels =\"aeiou\"\n",
        "  vowel_count =0\n",
        "  consonant_count =0\n",
        "\n",
        "  for i in words:\n",
        "    if i in vowels:\n",
        "      vowel_count = vowel_count+1\n",
        "    else:\n",
        "      consonant_count = consonant_count +1\n",
        "\n",
        "  return vowel_count, consonant_count\n",
        "\n",
        "vowels, consonants = count_vowels_consonants(name)\n",
        "\n",
        "print(\"vowels :\",vowels)\n",
        "print(\"consonants:\",consonants)\n",
        "\n",
        "\n",
        "\n",
        "\n",
        "\n",
        "\n"
      ]
    },
    {
      "cell_type": "code",
      "execution_count": null,
      "metadata": {
        "id": "s0CnYDXKYqn6"
      },
      "outputs": [],
      "source": [
        "s = \"programming\"\n",
        "def remove_duplicates(s):\n",
        "    seen = set()\n",
        "    result = []\n",
        "    for i in s:\n",
        "        if i not in seen:\n",
        "            seen.add(i)\n",
        "            result.append(i)\n",
        "    return \"\".join(result)\n"
      ]
    },
    {
      "cell_type": "code",
      "execution_count": null,
      "metadata": {
        "colab": {
          "base_uri": "https://localhost:8080/",
          "height": 36
        },
        "id": "Q0E27DtVkwdR",
        "outputId": "6a6626bf-2ca2-48cd-ca70-fec0590ed2ca"
      },
      "outputs": [
        {
          "data": {
            "application/vnd.google.colaboratory.intrinsic+json": {
              "type": "string"
            },
            "text/plain": [
              "'progamin'"
            ]
          },
          "execution_count": 46,
          "metadata": {},
          "output_type": "execute_result"
        }
      ],
      "source": [
        "remove_duplicates(s)"
      ]
    },
    {
      "cell_type": "code",
      "execution_count": null,
      "metadata": {
        "id": "yEPhtbB0oM4Y"
      },
      "outputs": [],
      "source": [
        "# Find the longest word in a sentence.\n",
        "\n",
        "def longest_word(sent):\n",
        "  words =sent.split()\n",
        "  longest =\"\"\n",
        "  for i in words:\n",
        "    if len(i)>len(longest):\n",
        "      longest = i\n",
        "  return longest\n",
        "\n",
        "\n"
      ]
    },
    {
      "cell_type": "code",
      "execution_count": null,
      "metadata": {
        "colab": {
          "base_uri": "https://localhost:8080/",
          "height": 36
        },
        "id": "fwuYGZvHpdiC",
        "outputId": "f2580aa9-7b99-445b-c20a-d541bc9b5019"
      },
      "outputs": [
        {
          "data": {
            "application/vnd.google.colaboratory.intrinsic+json": {
              "type": "string"
            },
            "text/plain": [
              "'LOVE'"
            ]
          },
          "execution_count": 48,
          "metadata": {},
          "output_type": "execute_result"
        }
      ],
      "source": [
        "longest_word(\" I LOVE NLP\")"
      ]
    },
    {
      "cell_type": "markdown",
      "metadata": {
        "id": "M7koGL6RXB6L"
      },
      "source": [
        "Day 3 - Lists\n",
        "---\n",
        "A list in Python is an ordered, mutable collection.\n",
        "You can store different types (int, float, string, even lists inside lists)."
      ]
    },
    {
      "cell_type": "code",
      "execution_count": null,
      "metadata": {
        "colab": {
          "base_uri": "https://localhost:8080/"
        },
        "id": "-KeeCzyVXMCx",
        "outputId": "5b169e5f-a512-42af-b72a-e1463b5639a4"
      },
      "outputs": [
        {
          "name": "stdout",
          "output_type": "stream",
          "text": [
            "[1, 2, 5.5, 6, 'Hello', [2, 3]]\n"
          ]
        }
      ],
      "source": [
        "numbers =[1,2,5.5,6,\"Hello\",[2,3]]\n",
        "print(numbers)"
      ]
    },
    {
      "cell_type": "code",
      "execution_count": null,
      "metadata": {
        "colab": {
          "base_uri": "https://localhost:8080/"
        },
        "id": "ka5LLeijX5wk",
        "outputId": "76542d07-e75f-4ebc-acca-e72b6c15c6a7"
      },
      "outputs": [
        {
          "name": "stdout",
          "output_type": "stream",
          "text": [
            "[1, 2, 5.5, 6, 'Hello', [2, 3], 5]\n"
          ]
        }
      ],
      "source": [
        "# append(x) → adds an element at the end\n",
        "\n",
        "numbers.append(5)\n",
        "print(numbers)"
      ]
    },
    {
      "cell_type": "code",
      "execution_count": null,
      "metadata": {
        "colab": {
          "base_uri": "https://localhost:8080/"
        },
        "id": "71sS9eE_YLzW",
        "outputId": "28aabcf7-b987-40c7-ad63-2bd4cdf8de59"
      },
      "outputs": [
        {
          "name": "stdout",
          "output_type": "stream",
          "text": [
            "[1, 2, 5.5, 6, 'Hello', [2, 3], 5, 1, 2]\n"
          ]
        }
      ],
      "source": [
        "#extend(iterable) → adds multiple elements at the end\n",
        "numbers.extend([1,2])\n",
        "print(numbers)"
      ]
    },
    {
      "cell_type": "code",
      "execution_count": null,
      "metadata": {
        "colab": {
          "base_uri": "https://localhost:8080/"
        },
        "id": "B7DSLdIVYqcF",
        "outputId": "e1507b45-ce2d-4e46-f662-8c485a53de67"
      },
      "outputs": [
        {
          "name": "stdout",
          "output_type": "stream",
          "text": [
            "[1, 5, 2, 5.5, 6, 'Hello', [2, 3], 5, 1, 2]\n"
          ]
        }
      ],
      "source": [
        "#insert(index, value) → insert at a specific position\n",
        "\n",
        "numbers.insert(1,5)\n",
        "print(numbers)"
      ]
    },
    {
      "cell_type": "code",
      "execution_count": null,
      "metadata": {
        "colab": {
          "base_uri": "https://localhost:8080/"
        },
        "id": "5GNgG0wdcUZG",
        "outputId": "ca3da8e5-db19-400a-e21f-e1ca49cbcb89"
      },
      "outputs": [
        {
          "name": "stdout",
          "output_type": "stream",
          "text": [
            "[1, 2, 5.5, 6, 'Hello', [2, 3], 5, 1, 2]\n"
          ]
        }
      ],
      "source": [
        "#remove(value) → removes the first matching element\n",
        "\n",
        "numbers.remove(5)\n",
        "print(numbers)"
      ]
    },
    {
      "cell_type": "code",
      "execution_count": null,
      "metadata": {
        "colab": {
          "base_uri": "https://localhost:8080/"
        },
        "id": "xljRZU4NcmRL",
        "outputId": "f25d95d7-919c-4f9f-db4d-28f31ecfc970"
      },
      "outputs": [
        {
          "name": "stdout",
          "output_type": "stream",
          "text": [
            "[10, 20, 30, 40]\n"
          ]
        }
      ],
      "source": [
        "#pop(index) → removes and returns element at index (default last)\n",
        "num = [10, 20, 30,40,50]\n",
        "num.pop()\n",
        "print(num)"
      ]
    },
    {
      "cell_type": "code",
      "execution_count": null,
      "metadata": {
        "colab": {
          "base_uri": "https://localhost:8080/"
        },
        "id": "6NT0y7wjc7S1",
        "outputId": "d1d4580f-be70-4460-a5c0-d3883eafdb6c"
      },
      "outputs": [
        {
          "name": "stdout",
          "output_type": "stream",
          "text": [
            "[10, 20, 40]\n"
          ]
        }
      ],
      "source": [
        "num.pop(2)\n",
        "print(num)"
      ]
    },
    {
      "cell_type": "code",
      "execution_count": null,
      "metadata": {
        "colab": {
          "base_uri": "https://localhost:8080/"
        },
        "id": "cM2v52KadJJQ",
        "outputId": "1ae84ac0-943b-4b32-862b-e566e0e84b96"
      },
      "outputs": [
        {
          "data": {
            "text/plain": [
              "2"
            ]
          },
          "execution_count": 26,
          "metadata": {},
          "output_type": "execute_result"
        }
      ],
      "source": [
        "#index(value) → returns index of first occurrence\n",
        "\n",
        "num.index(40)"
      ]
    },
    {
      "cell_type": "code",
      "execution_count": null,
      "metadata": {
        "colab": {
          "base_uri": "https://localhost:8080/"
        },
        "id": "j5mT-sjsdYaz",
        "outputId": "72c45baa-8592-4ac9-83fe-27b883a699c4"
      },
      "outputs": [
        {
          "data": {
            "text/plain": [
              "2"
            ]
          },
          "execution_count": 27,
          "metadata": {},
          "output_type": "execute_result"
        }
      ],
      "source": [
        "#count(value) → count occurrences\n",
        "\n",
        "num =[1,2,2,3,5,5]\n",
        "\n",
        "num.count(5)"
      ]
    },
    {
      "cell_type": "code",
      "execution_count": null,
      "metadata": {
        "colab": {
          "base_uri": "https://localhost:8080/"
        },
        "id": "QjrsJavcdrU8",
        "outputId": "f09b7ae9-e3c7-409b-ab33-27017f4179e2"
      },
      "outputs": [
        {
          "name": "stdout",
          "output_type": "stream",
          "text": [
            "[1, 2, 3, 5, 8, 9]\n"
          ]
        }
      ],
      "source": [
        "# sort() → sorts the list in-place\n",
        "num =[1,5,8,2,3,9]\n",
        "num.sort()\n",
        "print(num)"
      ]
    },
    {
      "cell_type": "code",
      "execution_count": null,
      "metadata": {
        "colab": {
          "base_uri": "https://localhost:8080/"
        },
        "id": "yb5SME06dyOO",
        "outputId": "8d12de3a-0e1e-4d94-977a-918e2cf4cc5e"
      },
      "outputs": [
        {
          "name": "stdout",
          "output_type": "stream",
          "text": [
            "[8, 8, 6, 2, 1, 5]\n"
          ]
        }
      ],
      "source": [
        "#reverse() → reverses in-place\n",
        "\n",
        "num =[5,1,2,6,8,8]\n",
        "num.reverse()\n",
        "print(num)"
      ]
    },
    {
      "cell_type": "markdown",
      "metadata": {
        "id": "NnWx8l7oeY6n"
      },
      "source": [
        "Like strings, but lists are mutable (can change values):"
      ]
    },
    {
      "cell_type": "code",
      "execution_count": null,
      "metadata": {
        "colab": {
          "base_uri": "https://localhost:8080/"
        },
        "id": "uBOc9NYgeHJA",
        "outputId": "47140d8a-3e51-40ed-cf04-171ffa6c29af"
      },
      "outputs": [
        {
          "name": "stdout",
          "output_type": "stream",
          "text": [
            "[20, 30, 40]\n",
            "[50, 40, 30, 20, 10]\n"
          ]
        }
      ],
      "source": [
        "nums = [10, 20, 30, 40, 50]\n",
        "print(nums[1:4])\n",
        "print(nums[::-1])\n"
      ]
    },
    {
      "cell_type": "code",
      "execution_count": null,
      "metadata": {
        "colab": {
          "base_uri": "https://localhost:8080/"
        },
        "id": "uNnsvj7sfccL",
        "outputId": "7df7d53b-da66-4bad-c3b3-1173fb2a08bc"
      },
      "outputs": [
        {
          "name": "stdout",
          "output_type": "stream",
          "text": [
            "enter the number1 4 5 6 \n",
            "largest 6\n",
            "smallest 1\n"
          ]
        }
      ],
      "source": [
        "# Find the largest & smallest element in a list.\n",
        "\n",
        "n =list(map(int,input(\"enter the number\").split()))\n",
        "largest =n[0]\n",
        "smallest =n[0]\n",
        "\n",
        "for i in n:\n",
        "  if i>n[0]:\n",
        "    largest =i\n",
        "  if i<n[0]:\n",
        "    smallest=i\n",
        "\n",
        "print(f'largest', largest)\n",
        "print(f'smallest', smallest)"
      ]
    },
    {
      "cell_type": "code",
      "execution_count": null,
      "metadata": {
        "colab": {
          "base_uri": "https://localhost:8080/"
        },
        "id": "3vn5LZMJhRX5",
        "outputId": "9e4f36e0-f227-42b7-8ff1-d672333a72bf"
      },
      "outputs": [
        {
          "name": "stdout",
          "output_type": "stream",
          "text": [
            "enter the number1 2 7 9\n",
            "9\n",
            "1\n"
          ]
        }
      ],
      "source": [
        "n =list(map(int,input(\"enter the number\").split()))\n",
        "\n",
        "print(max(n))\n",
        "print(min(n))"
      ]
    },
    {
      "cell_type": "code",
      "execution_count": null,
      "metadata": {
        "colab": {
          "base_uri": "https://localhost:8080/"
        },
        "id": "t3g6dQmch42r",
        "outputId": "6a1fccbe-aea8-4744-adb4-2c652714b49c"
      },
      "outputs": [
        {
          "name": "stdout",
          "output_type": "stream",
          "text": [
            "enter the list: 1 2 3 4\n",
            "The 2nd largest number is: 3\n"
          ]
        }
      ],
      "source": [
        "# 2.\tSecond largest element\n",
        "n = list(map(int,input(\"enter the list: \").split()))\n",
        "\n",
        "unique_n = list(set(n))\n",
        "\n",
        "if len(unique_n)<2:\n",
        "  print(\"there is no 2nd largest element\")\n",
        "\n",
        "else:\n",
        "  unique_n.sort(reverse =True)\n",
        "  print(f'The 2nd largest number is:',unique_n[1])\n"
      ]
    },
    {
      "cell_type": "code",
      "execution_count": null,
      "metadata": {
        "colab": {
          "base_uri": "https://localhost:8080/"
        },
        "id": "xmuAz11ejpYf",
        "outputId": "61c54e5f-2275-433a-c8f2-2067b84f524f"
      },
      "outputs": [
        {
          "name": "stdout",
          "output_type": "stream",
          "text": [
            "enter the list:1 8 9 7 \n",
            "[7, 9, 8, 1]\n"
          ]
        }
      ],
      "source": [
        "#3.\tReverse a list without using [::-1]\n",
        "\n",
        "n = list(map(int,input(\"enter the list:\").split()))\n",
        "n.reverse()\n",
        "print(n)\n"
      ]
    },
    {
      "cell_type": "code",
      "execution_count": null,
      "metadata": {
        "colab": {
          "base_uri": "https://localhost:8080/"
        },
        "id": "SQtH-VSulZjX",
        "outputId": "2ac2ea80-0c51-4225-e87d-c4dfc58e17d3"
      },
      "outputs": [
        {
          "name": "stdout",
          "output_type": "stream",
          "text": [
            "Enter numbers separated by spaces: 1 5 8 9 6\n",
            "Reversed List: [6, 9, 8, 5, 1]\n"
          ]
        }
      ],
      "source": [
        "nums = list(map(int, input(\"Enter numbers separated by spaces: \").split()))\n",
        "\n",
        "start = 0 #---Indicated index position\n",
        "end = len(nums) - 1 #---Indicated index position\n",
        "\n",
        "while start < end:\n",
        "    nums[start], nums[end] = nums[end], nums[start]   # swap\n",
        "    start += 1\n",
        "    end -= 1\n",
        "\n",
        "print(\"Reversed List:\", nums)\n"
      ]
    },
    {
      "cell_type": "code",
      "execution_count": null,
      "metadata": {
        "colab": {
          "base_uri": "https://localhost:8080/"
        },
        "id": "kv6FMTxqnvHo",
        "outputId": "623bdead-d524-4b83-b088-f027d9c3dc06"
      },
      "outputs": [
        {
          "name": "stdout",
          "output_type": "stream",
          "text": [
            "enter the list 1 2 5 8 8 9 1\n",
            "unique : [1, 2, 5, 8, 9]\n"
          ]
        }
      ],
      "source": [
        "# 4.\tRemove duplicates\n",
        "\n",
        "n =list(map(int,input(\"enter the list \").split()))\n",
        "\n",
        "unique =[] # Empty list\n",
        "\n",
        "for i in n:\n",
        "  if i not in unique:\n",
        "    unique.append(i)\n",
        "print(f'unique :', unique)"
      ]
    },
    {
      "cell_type": "code",
      "execution_count": null,
      "metadata": {
        "colab": {
          "base_uri": "https://localhost:8080/"
        },
        "id": "CxJa4dGioyxW",
        "outputId": "0c49ea23-651c-44f2-e895-f19a956959c8"
      },
      "outputs": [
        {
          "name": "stdout",
          "output_type": "stream",
          "text": [
            "Enter numbers separated by spaces: 1 2 5 8  8\n",
            "Frequency of elements: {1: 1, 2: 1, 5: 1, 8: 2}\n"
          ]
        }
      ],
      "source": [
        "# Count frequency of elements\n",
        "\n",
        "\n",
        "nums = list(map(int, input(\"Enter numbers separated by spaces: \").split()))\n",
        "\n",
        "frequency = {}   # dictionary to store element:count\n",
        "\n",
        "for i in nums:\n",
        "    if i in frequency:\n",
        "        frequency[i] += 1   # increase count if already present\n",
        "    else:\n",
        "        frequency[i] = 1    # first time, set count = 1\n",
        "\n",
        "print(\"Frequency of elements:\", frequency)\n",
        "\n"
      ]
    },
    {
      "cell_type": "code",
      "execution_count": null,
      "metadata": {
        "id": "HkpdmYjqBX1k"
      },
      "outputs": [],
      "source": [
        "#Q1. Factorials & Prime Mix\n",
        "\n",
        "'''Write a function that takes a number n and:\n",
        "\n",
        "Returns factorial of n if it is prime\n",
        "\n",
        "Returns sum of digits of n if it is not prime'''\n",
        "\n",
        "\n",
        "\n",
        "n = int(input(\"enter the number: \"))\n",
        "\n",
        "def fact_prime(n):\n",
        "  if"
      ]
    },
    {
      "cell_type": "markdown",
      "metadata": {
        "id": "O6q_oG9xDK1v"
      },
      "source": [
        "Day 4 Tuples & Sets\n"
      ]
    },
    {
      "cell_type": "code",
      "execution_count": null,
      "metadata": {
        "colab": {
          "base_uri": "https://localhost:8080/"
        },
        "id": "tG1iT4TbDQhL",
        "outputId": "3f00b6cb-04b5-4780-ce5f-a6e8b384d750"
      },
      "outputs": [
        {
          "data": {
            "text/plain": [
              "1"
            ]
          },
          "execution_count": 5,
          "metadata": {},
          "output_type": "execute_result"
        }
      ],
      "source": [
        "#   A tuple is like a list but immutable (cannot be changed after creation).\n",
        "my_tuple = (1, 2, 3)\n",
        "# can access elements with indexing, but you cannot modify them.\n",
        "my_tuple[0]"
      ]
    },
    {
      "cell_type": "markdown",
      "metadata": {
        "id": "n15nZogtJGGC"
      },
      "source": [
        "my_tuple[0] = 100 → ❌ Error! (cannot modify)\n",
        "\n",
        "\n",
        "You can read or slice, just cannot assign new values."
      ]
    },
    {
      "cell_type": "code",
      "execution_count": null,
      "metadata": {
        "id": "rxCibBkuIhXo"
      },
      "outputs": [],
      "source": [
        "#my_tuple[0] = 100 → ❌ Error! (cannot modify)\n",
        "\n",
        "#You can read or slice, just cannot assign new values."
      ]
    },
    {
      "cell_type": "code",
      "execution_count": null,
      "metadata": {
        "colab": {
          "base_uri": "https://localhost:8080/"
        },
        "id": "IpfZtrYkJTg-",
        "outputId": "c2fe3704-3055-43b4-d220-f0c35881eed7"
      },
      "outputs": [
        {
          "name": "stdout",
          "output_type": "stream",
          "text": [
            "(20, 30, 40)\n"
          ]
        }
      ],
      "source": [
        "my_tuple = (10, 20, 30, 40, 50)\n",
        "print(my_tuple[1:4])"
      ]
    },
    {
      "cell_type": "markdown",
      "metadata": {
        "id": "gL-Ms83lKUYJ"
      },
      "source": [
        "Why Tuples?\n",
        "Faster than lists.\n",
        "Used when you want read-only data.\n",
        "Tuples are immutable\n",
        "Once a tuple is created, you cannot modify, add, or delete its elements.\n",
        "This guarantees that the data stays unchanged throughout your program.\n",
        "Use-case in real-world / Data Science:\n",
        "When you want to store constants or fixed data like:\n",
        "Coordinates of a point (x, y)Model parameters (learning_rate, epochs)\n",
        "Days of the week (\"Mon\", \"Tue\", \"Wed\", ...)\n",
        "Using a list here would allow accidental modification. Tuples prevent that.\n",
        "\n",
        "Key Interview Tip:\n",
        "\n",
        "Tuple = safe, read-only collection\n",
        "\n",
        "List = mutable, changeable collection\n",
        "\n",
        "#Always use a tuple when the data should not change, especially in functions returning multiple values or as keys in dictionaries."
      ]
    },
    {
      "cell_type": "code",
      "execution_count": null,
      "metadata": {
        "id": "qTgQ0i-YLuwZ"
      },
      "outputs": [],
      "source": [
        "# Sets\n",
        "#A set is an unordered collection of unique elements.\n",
        "\n",
        "my_set = {1, 2, 3, 4}\n",
        "\n",
        "#✅ Automatically removes duplicates.\n",
        "\n",
        "#✅ Good for membership checks (in is very fast)."
      ]
    },
    {
      "cell_type": "markdown",
      "metadata": {
        "id": "RyLjPjI6MWqS"
      },
      "source": [
        "mportant Set Operations\n",
        "\n",
        "Union (| or union()) → Combines all elements (no duplicates).\n",
        "\n",
        "Intersection (& or intersection()) → Common elements.\n",
        "\n",
        "Difference (- or difference()) → Elements in one set but not the other.\n",
        "\n",
        "Symmetric Difference (^ or symmetric_difference()) → Elements in either set, but not both."
      ]
    },
    {
      "cell_type": "code",
      "execution_count": null,
      "metadata": {
        "colab": {
          "base_uri": "https://localhost:8080/"
        },
        "id": "ElSTWIE3MZHl",
        "outputId": "81f74801-e230-428a-d280-334bcbc04a5d"
      },
      "outputs": [
        {
          "name": "stdout",
          "output_type": "stream",
          "text": [
            "{1, 2, 3, 4, 5}\n",
            "{3}\n",
            "{4, 5}\n",
            "{1, 2, 4, 5}\n"
          ]
        }
      ],
      "source": [
        "a = {1, 2, 3}\n",
        "b = {3, 4, 5}\n",
        "\n",
        "print(a | b)   # {1, 2, 3, 4, 5}  (union)\n",
        "print(a & b)   # {3}              (intersection)\n",
        "print(b - a)   # {1, 2}           (difference)\n",
        "print(a ^ b)   # {1, 2, 4, 5}     (symmetric difference)\n"
      ]
    },
    {
      "cell_type": "code",
      "execution_count": null,
      "metadata": {
        "colab": {
          "base_uri": "https://localhost:8080/"
        },
        "id": "6sJ9AeiYMxPn",
        "outputId": "54c86e97-8400-4334-ccfc-a87ecf3bda73"
      },
      "outputs": [
        {
          "name": "stdout",
          "output_type": "stream",
          "text": [
            "<class 'tuple'>\n"
          ]
        }
      ],
      "source": [
        "#. Convert list to tuple\n",
        "\n",
        "lst =[1,2,3,4]\n",
        "my_tpl =tuple(lst)\n",
        "print(type(my_tpl))"
      ]
    },
    {
      "cell_type": "code",
      "execution_count": null,
      "metadata": {
        "colab": {
          "base_uri": "https://localhost:8080/"
        },
        "id": "yD4-3UHnM_tT",
        "outputId": "f9ed535e-1d05-4d95-d400-350466433197"
      },
      "outputs": [
        {
          "name": "stdout",
          "output_type": "stream",
          "text": [
            "{1, 2, 4, 5}\n"
          ]
        }
      ],
      "source": [
        "#. Find common elements in two sets\n",
        "a ={1,2,3,4,5}\n",
        "b ={5,4,2,7,1}\n",
        "print(a&b)"
      ]
    },
    {
      "cell_type": "code",
      "execution_count": null,
      "metadata": {
        "colab": {
          "base_uri": "https://localhost:8080/"
        },
        "id": "5uon9VaxNRcl",
        "outputId": "18dfc8dd-b383-4ec2-b354-db0a2656d0f6"
      },
      "outputs": [
        {
          "data": {
            "text/plain": [
              "{1, 2, 4, 5}"
            ]
          },
          "execution_count": 13,
          "metadata": {},
          "output_type": "execute_result"
        }
      ],
      "source": [
        "a & b"
      ]
    },
    {
      "cell_type": "code",
      "execution_count": null,
      "metadata": {
        "colab": {
          "base_uri": "https://localhost:8080/"
        },
        "id": "NLCZ4riBNca5",
        "outputId": "8b33dc5b-5953-4c66-f3c3-155e39b6f1a0"
      },
      "outputs": [
        {
          "data": {
            "text/plain": [
              "{1, 2, 4}"
            ]
          },
          "execution_count": 14,
          "metadata": {},
          "output_type": "execute_result"
        }
      ],
      "source": [
        "#Check if two lists have common elements\n",
        "\n",
        "lst_1 =[1,2,3,4]\n",
        "lst_2 =[4,5,2,1]\n",
        "set(lst_1) & set(lst_2)"
      ]
    },
    {
      "cell_type": "code",
      "execution_count": null,
      "metadata": {
        "colab": {
          "base_uri": "https://localhost:8080/"
        },
        "id": "T8PTwr-NOK2F",
        "outputId": "443e9744-5509-4c8a-bff8-b31e0e6a0b7c"
      },
      "outputs": [
        {
          "name": "stdout",
          "output_type": "stream",
          "text": [
            "{1, 2, 3, 4, 5, 6}\n"
          ]
        }
      ],
      "source": [
        "# Remove duplicates from a list using set\n",
        "lst =[1,2,3,4,5,2,6,1]\n",
        "unique =set(lst)\n",
        "print(unique)"
      ]
    },
    {
      "cell_type": "code",
      "execution_count": null,
      "metadata": {
        "colab": {
          "base_uri": "https://localhost:8080/"
        },
        "id": "8gTc4sUGOiph",
        "outputId": "a256a781-0d49-46d5-f972-e7d3c53608dd"
      },
      "outputs": [
        {
          "name": "stdout",
          "output_type": "stream",
          "text": [
            "{2, 3, 8, 9}\n"
          ]
        }
      ],
      "source": [
        "#Find symmetric difference\n",
        "\n",
        "a ={1,2,3,3}\n",
        "b={1,8,9,8}\n",
        "diff =a^ b\n",
        "print(diff)"
      ]
    },
    {
      "cell_type": "code",
      "execution_count": null,
      "metadata": {
        "colab": {
          "base_uri": "https://localhost:8080/"
        },
        "id": "8MtED6oaOy_E",
        "outputId": "17855b96-f975-4f0c-d38b-3aeeef8d0bd8"
      },
      "outputs": [
        {
          "name": "stdout",
          "output_type": "stream",
          "text": [
            "(5, 6)\n"
          ]
        }
      ],
      "source": [
        "#In Python, a function can return multiple values by separating them with commas. Technically, Python packs those values into a tuple.\n",
        "\n",
        "#Example 1: Returning two values\n",
        "\n",
        "def calculate(a,b):\n",
        "  add = a+b\n",
        "  mul =a*b\n",
        "  return add,mul\n",
        "result =calculate(2,3)\n",
        "print(result)\n"
      ]
    },
    {
      "cell_type": "code",
      "execution_count": null,
      "metadata": {
        "colab": {
          "base_uri": "https://localhost:8080/"
        },
        "id": "MrVQSy3KQc2o",
        "outputId": "567000a8-1245-40d6-a256-f849c6647db0"
      },
      "outputs": [
        {
          "name": "stdout",
          "output_type": "stream",
          "text": [
            "5\n",
            "6\n"
          ]
        }
      ],
      "source": [
        "#Unpacking multiple returns\n",
        "\n",
        "def calculate(a,b):\n",
        "  add = a+b\n",
        "  mul =a*b\n",
        "  return add,mul\n",
        "add,mul =calculate(2,3)\n",
        "print(add)\n",
        "print(mul)\n"
      ]
    },
    {
      "cell_type": "code",
      "execution_count": null,
      "metadata": {
        "colab": {
          "base_uri": "https://localhost:8080/"
        },
        "id": "OBQz2jXyQ3Mf",
        "outputId": "a418bba2-ff95-4eb3-dce3-8ce06b966260"
      },
      "outputs": [
        {
          "name": "stdout",
          "output_type": "stream",
          "text": [
            "Alice\n",
            "22\n",
            "Data Science\n"
          ]
        }
      ],
      "source": [
        "#Example 3: Returning 3+ values\n",
        "\n",
        "def student_details():\n",
        "    return \"Alice\", 22, \"Data Science\"\n",
        "\n",
        "name, age, course = student_details()\n",
        "print(name)   # Alice\n",
        "print(age)    # 22\n",
        "print(course) # Data Science\n"
      ]
    },
    {
      "cell_type": "markdown",
      "metadata": {
        "id": "EUtDLWjKYt2r"
      },
      "source": [
        "Dictionaries\n",
        "\n",
        "A dictionary is a collection of key-value pairs.\n",
        "\n",
        "Keys must be unique and immutable (like string, number, tuple).\n",
        "\n",
        "Values can be any type.\n"
      ]
    },
    {
      "cell_type": "code",
      "execution_count": null,
      "metadata": {
        "colab": {
          "base_uri": "https://localhost:8080/"
        },
        "id": "3hJ1Cvp1Y5A6",
        "outputId": "46b8aa43-a947-4297-97e0-43f0dde0c091"
      },
      "outputs": [
        {
          "name": "stdout",
          "output_type": "stream",
          "text": [
            "{'name': 'Revu', 'age': 29, 'job': 'Data Scientist'}\n"
          ]
        }
      ],
      "source": [
        "dic ={\"name\":\"Revu\",\n",
        "      \"age\" :29,\n",
        "      \"job\":\"Data Scientist\"}\n",
        "print(dic)"
      ]
    },
    {
      "cell_type": "code",
      "execution_count": null,
      "metadata": {
        "colab": {
          "base_uri": "https://localhost:8080/",
          "height": 36
        },
        "id": "cxVILYvLZQ0y",
        "outputId": "82c2f1cf-4745-462b-e830-2c578e8f5be0"
      },
      "outputs": [
        {
          "data": {
            "application/vnd.google.colaboratory.intrinsic+json": {
              "type": "string"
            },
            "text/plain": [
              "'Revu'"
            ]
          },
          "execution_count": 25,
          "metadata": {},
          "output_type": "execute_result"
        }
      ],
      "source": [
        "dic[\"name\"]"
      ]
    },
    {
      "cell_type": "code",
      "execution_count": null,
      "metadata": {
        "colab": {
          "base_uri": "https://localhost:8080/"
        },
        "id": "3IkAbeaFZXQ2",
        "outputId": "7ec49d96-d92a-4458-d068-6f1a58f47bd0"
      },
      "outputs": [
        {
          "name": "stdout",
          "output_type": "stream",
          "text": [
            "29\n"
          ]
        }
      ],
      "source": [
        "# .get() is safer than [] because it won’t give an error if the key doesn’t exist.\n",
        "print(dic.get(\"age\"))\n"
      ]
    },
    {
      "cell_type": "markdown",
      "metadata": {
        "id": "8L7Qy3sOaAkd"
      },
      "source": [
        "Method\tDescription\n",
        "\n",
        ".keys(): Returns all keys     \n",
        "\n",
        ".values():\tReturns all values\n",
        "\n",
        ".items() : Returns key-value pairs as tuples\n",
        "\n",
        ".update()\t: Adds or updates key-value pairs\n",
        "\n",
        "del dict[key]\t: Deletes a key-value pair"
      ]
    },
    {
      "cell_type": "code",
      "execution_count": null,
      "metadata": {
        "colab": {
          "base_uri": "https://localhost:8080/"
        },
        "id": "3AdFQFHmZhKJ",
        "outputId": "9650c682-7e23-484e-b9d0-8c1b89a1375f"
      },
      "outputs": [
        {
          "data": {
            "text/plain": [
              "dict_keys(['name', 'age', 'job'])"
            ]
          },
          "execution_count": 29,
          "metadata": {},
          "output_type": "execute_result"
        }
      ],
      "source": [
        "dic.keys()"
      ]
    },
    {
      "cell_type": "code",
      "execution_count": null,
      "metadata": {
        "colab": {
          "base_uri": "https://localhost:8080/"
        },
        "id": "NRuAWP6waabu",
        "outputId": "bce34700-84be-445f-a457-f3ed52c63166"
      },
      "outputs": [
        {
          "data": {
            "text/plain": [
              "dict_values(['Revu', 29, 'Data Scientist'])"
            ]
          },
          "execution_count": 30,
          "metadata": {},
          "output_type": "execute_result"
        }
      ],
      "source": [
        "dic.values()"
      ]
    },
    {
      "cell_type": "code",
      "execution_count": null,
      "metadata": {
        "colab": {
          "base_uri": "https://localhost:8080/"
        },
        "id": "Xedx7ZZiacYj",
        "outputId": "13504be9-c945-46da-c57d-3663fe8d26e9"
      },
      "outputs": [
        {
          "data": {
            "text/plain": [
              "dict_items([('name', 'Revu'), ('age', 29), ('job', 'Data Scientist')])"
            ]
          },
          "execution_count": 31,
          "metadata": {},
          "output_type": "execute_result"
        }
      ],
      "source": [
        "dic.items()"
      ]
    },
    {
      "cell_type": "code",
      "execution_count": null,
      "metadata": {
        "colab": {
          "base_uri": "https://localhost:8080/"
        },
        "id": "IjVAmO1Eae8R",
        "outputId": "d671d07c-8e7f-4194-ea91-dbb956540b09"
      },
      "outputs": [
        {
          "name": "stdout",
          "output_type": "stream",
          "text": [
            "{'name': 'Revu', 'age': 28, 'job': 'Data Scientist'}\n"
          ]
        }
      ],
      "source": [
        "dic.update({\"age\":28})\n",
        "print(dic)"
      ]
    },
    {
      "cell_type": "code",
      "execution_count": null,
      "metadata": {
        "id": "KT8XBv-BasU3"
      },
      "outputs": [],
      "source": [
        "del dic['name']"
      ]
    },
    {
      "cell_type": "code",
      "execution_count": null,
      "metadata": {
        "colab": {
          "base_uri": "https://localhost:8080/"
        },
        "id": "7fgKpW4ibDyW",
        "outputId": "e3d7d652-26fa-4e2b-e273-3ca6b9f0ea48"
      },
      "outputs": [
        {
          "name": "stdout",
          "output_type": "stream",
          "text": [
            "{'job': 'Data Scientist'}\n"
          ]
        }
      ],
      "source": [
        "print(dic)"
      ]
    },
    {
      "cell_type": "markdown",
      "metadata": {
        "id": "Pm6FI8u0bXSU"
      },
      "source": [
        "Why dictionaries are useful for Data Science\n",
        "\n",
        "Counting occurrences (word frequency, value counts).\n",
        "\n",
        "Storing JSON-like data.\n",
        "\n",
        "Quick lookups by key (e.g., student ID → marks)."
      ]
    },
    {
      "cell_type": "code",
      "execution_count": null,
      "metadata": {
        "id": "O__jzEPcbOp-"
      },
      "outputs": [],
      "source": [
        "f ={2,2}"
      ]
    },
    {
      "cell_type": "code",
      "execution_count": null,
      "metadata": {
        "colab": {
          "base_uri": "https://localhost:8080/"
        },
        "id": "DdvXwHG_eKwN",
        "outputId": "3580a036-585c-4080-9e88-5e12f11f822c"
      },
      "outputs": [
        {
          "name": "stdout",
          "output_type": "stream",
          "text": [
            "<class 'set'>\n"
          ]
        }
      ],
      "source": [
        "print(type(f))"
      ]
    },
    {
      "cell_type": "code",
      "execution_count": null,
      "metadata": {
        "colab": {
          "base_uri": "https://localhost:8080/",
          "height": 36
        },
        "id": "jUNaU68IeNHk",
        "outputId": "f50c82a9-cec4-43e6-ec83-9200ab37ddee"
      },
      "outputs": [
        {
          "data": {
            "application/vnd.google.colaboratory.intrinsic+json": {
              "type": "string"
            },
            "text/plain": [
              "'Revu'"
            ]
          },
          "execution_count": 3,
          "metadata": {},
          "output_type": "execute_result"
        }
      ],
      "source": [
        "my_dict ={\"name\":\"Revu\",\"age\":28,\"job\" :\"data scientist\"}\n",
        "\n",
        "my_dict.get(\"name\")"
      ]
    },
    {
      "cell_type": "code",
      "execution_count": null,
      "metadata": {
        "colab": {
          "base_uri": "https://localhost:8080/"
        },
        "id": "tbm0I18Llkfd",
        "outputId": "6caa3828-2cb0-4a26-81ec-b262176a237f"
      },
      "outputs": [
        {
          "name": "stdout",
          "output_type": "stream",
          "text": [
            "{'data': 2, 'science': 1, 'is': 2, 'fun': 1, 'and': 1, 'powerful': 1}\n"
          ]
        }
      ],
      "source": [
        "#Count frequency of words in a string\n",
        "\n",
        "sentence =\"data science is fun and data is powerful\"\n",
        "words= sentence.split()\n",
        "my_dict ={}\n",
        "for i in words:\n",
        "  my_dict[i]= my_dict.get(i,0)+1\n",
        "print(my_dict)\n",
        "\n",
        "\n",
        "\n",
        "\n"
      ]
    },
    {
      "cell_type": "code",
      "execution_count": null,
      "metadata": {
        "colab": {
          "base_uri": "https://localhost:8080/"
        },
        "id": "NXU4YsZMnDLa",
        "outputId": "01859711-09d0-4674-c624-15a1bf5b146b"
      },
      "outputs": [
        {
          "name": "stdout",
          "output_type": "stream",
          "text": [
            "{'data': 1}\n"
          ]
        }
      ],
      "source": [
        "my_dict ={}\n",
        "words =\"data\"\n",
        "my_dict[words] =1\n",
        "print(my_dict)"
      ]
    },
    {
      "cell_type": "code",
      "execution_count": null,
      "metadata": {
        "colab": {
          "base_uri": "https://localhost:8080/"
        },
        "id": "WPwc7rmOqI8r",
        "outputId": "204d97f3-7c1c-4610-f334-53527df127b4"
      },
      "outputs": [
        {
          "name": "stdout",
          "output_type": "stream",
          "text": [
            "{'words': 1}\n"
          ]
        }
      ],
      "source": [
        "my_dict1 ={}\n",
        "words =\"data\"\n",
        "my_dict1[\"words\"] =1\n",
        "print(my_dict1)"
      ]
    },
    {
      "cell_type": "code",
      "execution_count": null,
      "metadata": {
        "colab": {
          "base_uri": "https://localhost:8080/"
        },
        "id": "0cYthLNWqW8i",
        "outputId": "69c0b745-071e-4ec1-8944-557d648e9dea"
      },
      "outputs": [
        {
          "name": "stdout",
          "output_type": "stream",
          "text": [
            "{'Alice': 90, 'Charlie': 85, 'Bob': 75}\n"
          ]
        }
      ],
      "source": [
        "#2. Sort dictionary by value\n",
        "\n",
        "scores = {\"Alice\": 90, \"Bob\": 75, \"Charlie\": 85}\n",
        "\n",
        "sorted_keys = sorted(scores, key=scores.get, reverse=True)\n",
        "sorted_scores = {k: scores[k] for k in sorted_keys}\n",
        "\n",
        "print(sorted_scores)\n"
      ]
    },
    {
      "cell_type": "code",
      "execution_count": null,
      "metadata": {
        "colab": {
          "base_uri": "https://localhost:8080/"
        },
        "id": "Nj11DNWgJ8Gn",
        "outputId": "0120c8a1-2e5e-4785-d549-db5ccf6dd836"
      },
      "outputs": [
        {
          "name": "stdout",
          "output_type": "stream",
          "text": [
            "{'Alice': 90, 'Bob': 75, 'Charlie': 85}\n"
          ]
        }
      ],
      "source": [
        "#2. Sort dictionary by key\n",
        "scores = {\"Alice\": 90, \"Bob\": 75, \"Charlie\": 85}\n",
        "\n",
        "sorted_scores = dict(sorted(scores.items()))   # Default: sorts by keys\n",
        "print(sorted_scores)\n"
      ]
    },
    {
      "cell_type": "code",
      "execution_count": null,
      "metadata": {
        "id": "QuSTSguZtQTW"
      },
      "outputs": [],
      "source": [
        "#Merge two dictionaries\n",
        "\n",
        "dict1 = {\"a\": 1, \"b\": 2}\n",
        "dict2 = {\"b\": 3, \"c\": 4}\n",
        "\n",
        "merged = {**dict1, **dict2}  # dict2 values overwrite dict1\n",
        "print(merged)  # {'a': 1, 'b': 3, 'c': 4}\n"
      ]
    },
    {
      "cell_type": "code",
      "execution_count": null,
      "metadata": {
        "colab": {
          "base_uri": "https://localhost:8080/"
        },
        "id": "0VvtsSE_tV4M",
        "outputId": "b7a02b5d-71e5-44a1-9f90-f74392b229c7"
      },
      "outputs": [
        {
          "name": "stdout",
          "output_type": "stream",
          "text": [
            "{1: 'a', 2: 'b', 3: 'c'}\n"
          ]
        }
      ],
      "source": [
        "# Invert dictionary (keys ↔ values)\n",
        "my_dict = {\"a\": 1, \"b\": 2, \"c\": 3}\n",
        "inverted = {v: k for k, v in my_dict.items()}\n",
        "print(inverted)  # {1: 'a', 2: 'b', 3: 'c'}\n"
      ]
    },
    {
      "cell_type": "code",
      "execution_count": null,
      "metadata": {
        "colab": {
          "base_uri": "https://localhost:8080/"
        },
        "id": "r6wY3Iv5tcjV",
        "outputId": "46d01f61-748b-440e-d1d7-b387735debc2"
      },
      "outputs": [
        {
          "name": "stdout",
          "output_type": "stream",
          "text": [
            "Alice 90\n"
          ]
        }
      ],
      "source": [
        "#Find key with max value\n",
        "my_dict = {\"Alice\": 90, \"Bob\": 75, \"Charlie\": 85}\n",
        "max_key = max(my_dict, key=my_dict.get)\n",
        "max_value =my_dict[max_key]\n",
        "print(max_key,max_value)\n"
      ]
    },
    {
      "cell_type": "markdown",
      "metadata": {
        "id": "qli2PKzPO9QD"
      },
      "source": [
        "#A function is a block of code that you can reuse.\n",
        "#It can take inputs (parameters) and return outputs.\n"
      ]
    },
    {
      "cell_type": "code",
      "execution_count": null,
      "metadata": {
        "id": "Y5MSAbZi5Kjn"
      },
      "outputs": [],
      "source": [
        "#Syntaxs\n",
        "'''def function_name(parameters):\n",
        "    # code\n",
        "    return value''''"
      ]
    },
    {
      "cell_type": "code",
      "execution_count": null,
      "metadata": {
        "colab": {
          "base_uri": "https://localhost:8080/"
        },
        "id": "EwzZEJLK5WML",
        "outputId": "2610c79d-9c91-4db8-e9fa-5b231c632ed5"
      },
      "outputs": [
        {
          "data": {
            "text/plain": [
              "5"
            ]
          },
          "execution_count": 6,
          "metadata": {},
          "output_type": "execute_result"
        }
      ],
      "source": [
        "def add(a,b):\n",
        "  return a+b\n",
        "\n",
        "add(2,3)\n"
      ]
    },
    {
      "cell_type": "code",
      "execution_count": null,
      "metadata": {
        "id": "T9NX5w8r5jbp"
      },
      "outputs": [],
      "source": [
        "# Default Arguments\n",
        "\n",
        "def greet(name =\"guest\"):\n",
        "  print(\"hello\",name)"
      ]
    },
    {
      "cell_type": "code",
      "execution_count": null,
      "metadata": {
        "colab": {
          "base_uri": "https://localhost:8080/"
        },
        "id": "WdHcmIPI6ehD",
        "outputId": "a6c11dc5-ddf8-41c1-e5c8-9954bd8ecbe4"
      },
      "outputs": [
        {
          "name": "stdout",
          "output_type": "stream",
          "text": [
            "hello Revu\n"
          ]
        }
      ],
      "source": [
        "greet(\"Revu\")"
      ]
    },
    {
      "cell_type": "code",
      "execution_count": null,
      "metadata": {
        "id": "Bk-B-3dG6gdI"
      },
      "outputs": [],
      "source": [
        "#args (Arbitrary positional arguments)\n",
        "#Use *args when you don’t know how many inputs will be passed.\n",
        "\n",
        "def add_all(*args):\n",
        "  return sum(args)"
      ]
    },
    {
      "cell_type": "code",
      "execution_count": null,
      "metadata": {
        "colab": {
          "base_uri": "https://localhost:8080/"
        },
        "id": "dnrJVyQW6_GJ",
        "outputId": "724824d8-aafd-4bdf-89b4-6b557ccfc9b4"
      },
      "outputs": [
        {
          "data": {
            "text/plain": [
              "14"
            ]
          },
          "execution_count": 20,
          "metadata": {},
          "output_type": "execute_result"
        }
      ],
      "source": [
        "add_all(2,3,4,5)"
      ]
    },
    {
      "cell_type": "code",
      "execution_count": null,
      "metadata": {
        "id": "IwjNbaXw7BZH"
      },
      "outputs": [],
      "source": [
        "#kwargs (Arbitrary keyword arguments)\n",
        "#Use **kwargs when you want to pass named arguments dynamically."
      ]
    },
    {
      "cell_type": "code",
      "execution_count": null,
      "metadata": {
        "colab": {
          "base_uri": "https://localhost:8080/"
        },
        "id": "2fWQlkoz9Djn",
        "outputId": "805a1c5e-58a3-4286-adfb-09680a6223fb"
      },
      "outputs": [
        {
          "name": "stdout",
          "output_type": "stream",
          "text": [
            "name : Alice\n",
            "age : 25\n"
          ]
        }
      ],
      "source": [
        "def print_info(**kwargs):\n",
        "    for key, value in kwargs.items():\n",
        "        print(key, \":\", value)\n",
        "\n",
        "print_info(name=\"Alice\", age=25)"
      ]
    },
    {
      "cell_type": "code",
      "execution_count": null,
      "metadata": {
        "colab": {
          "base_uri": "https://localhost:8080/"
        },
        "id": "sJI2fI2B9TxY",
        "outputId": "4cbe2171-43e4-4ee6-dae0-46db3329c2d3"
      },
      "outputs": [
        {
          "name": "stdout",
          "output_type": "stream",
          "text": [
            "5 6\n"
          ]
        }
      ],
      "source": [
        "#A function can return more than one value (actually as a tuple).\n",
        "def add_mul(a,b):\n",
        "  return a+b,a*b\n",
        "sum_value, mul_value =add_mul(2,3)\n",
        "\n",
        "\n",
        "print(sum_value, mul_value)\n"
      ]
    },
    {
      "cell_type": "code",
      "execution_count": null,
      "metadata": {
        "colab": {
          "base_uri": "https://localhost:8080/"
        },
        "id": "khQMvX9e_WPd",
        "outputId": "b5939dfc-5db8-4494-87c4-a15dac86c81c"
      },
      "outputs": [
        {
          "data": {
            "text/plain": [
              "7"
            ]
          },
          "execution_count": 29,
          "metadata": {},
          "output_type": "execute_result"
        }
      ],
      "source": [
        "# lambda Functions\n",
        "#Short, one-line functions without a name.\n",
        "\n",
        "add =lambda a,b :a+b\n",
        "add(2,5)\n",
        "\n",
        "\n"
      ]
    },
    {
      "cell_type": "code",
      "execution_count": null,
      "metadata": {
        "colab": {
          "base_uri": "https://localhost:8080/"
        },
        "id": "oyxPUaQ8_xAy",
        "outputId": "b11c16cf-ed69-4761-b482-0048746e6e92"
      },
      "outputs": [
        {
          "data": {
            "text/plain": [
              "25"
            ]
          },
          "execution_count": 30,
          "metadata": {},
          "output_type": "execute_result"
        }
      ],
      "source": [
        "square =lambda x:x*x\n",
        "square(5\n",
        "       )"
      ]
    },
    {
      "cell_type": "code",
      "execution_count": null,
      "metadata": {
        "colab": {
          "base_uri": "https://localhost:8080/"
        },
        "id": "wmguqQZ1_6mS",
        "outputId": "efc1852b-985f-467d-952d-9548df1a7fbe"
      },
      "outputs": [
        {
          "data": {
            "text/plain": [
              "32.5"
            ]
          },
          "execution_count": 32,
          "metadata": {},
          "output_type": "execute_result"
        }
      ],
      "source": [
        "div = lambda a,b :a/b\n",
        "div(65,2)"
      ]
    },
    {
      "cell_type": "code",
      "execution_count": null,
      "metadata": {
        "colab": {
          "base_uri": "https://localhost:8080/"
        },
        "id": "v55oBUyjADLB",
        "outputId": "8a9d1bb8-37d5-47a3-fecc-2a1afdc5ccbb"
      },
      "outputs": [
        {
          "name": "stdout",
          "output_type": "stream",
          "text": [
            "10\n"
          ]
        }
      ],
      "source": [
        "#Higher-Order Functions\n",
        "#Functions that take other functions as arguments.\n",
        "def apply_func(x, func):\n",
        "    return func(x)\n",
        "\n",
        "print(apply_func(5, lambda x: x*2))\n"
      ]
    },
    {
      "cell_type": "code",
      "execution_count": null,
      "metadata": {
        "colab": {
          "base_uri": "https://localhost:8080/"
        },
        "id": "CEpqRpp26eIc",
        "outputId": "e734127a-bbdb-472f-e478-c664ddbdbd13"
      },
      "outputs": [
        {
          "data": {
            "text/plain": [
              "25"
            ]
          },
          "execution_count": 2,
          "metadata": {},
          "output_type": "execute_result"
        }
      ],
      "source": [
        "def apply_funct(x,func):\n",
        "  return func(x)\n",
        "def double(x):\n",
        "  return x**2\n",
        "\n",
        "apply_funct(5,double)"
      ]
    },
    {
      "cell_type": "code",
      "execution_count": null,
      "metadata": {
        "id": "NINJqVMSApQz"
      },
      "outputs": [],
      "source": [
        "#Recursive Functions\n",
        "#Function calling itself.\n",
        "\n",
        "#Always have a base case to stop recursion.\n",
        "\n",
        "def fact(n):\n",
        "  if n<0:\n",
        "    return \"fact not defined\"\n",
        "  elif n==0 or n==1:\n",
        "    return 1\n",
        "  elif n==2:\n",
        "    return 2\n",
        "  else:\n",
        "    return n*fact(n-1)"
      ]
    },
    {
      "cell_type": "code",
      "execution_count": null,
      "metadata": {
        "colab": {
          "base_uri": "https://localhost:8080/"
        },
        "id": "32mx2XS7BR2-",
        "outputId": "e9181d58-fbe5-4050-d8ec-5a4912256e38"
      },
      "outputs": [
        {
          "data": {
            "text/plain": [
              "120"
            ]
          },
          "execution_count": 35,
          "metadata": {},
          "output_type": "execute_result"
        }
      ],
      "source": [
        "fact(5)"
      ]
    },
    {
      "cell_type": "code",
      "execution_count": null,
      "metadata": {
        "colab": {
          "base_uri": "https://localhost:8080/"
        },
        "id": "FsLd3YYBBTOh",
        "outputId": "f0d0969a-3d65-483f-dfcb-f36197c14bbc"
      },
      "outputs": [
        {
          "name": "stdout",
          "output_type": "stream",
          "text": [
            "[17, 23, 31]\n"
          ]
        }
      ],
      "source": [
        "# Write a function is_prime(n) that checks if a number is prime. Then, use this function to filter out all prime numbers from a given list of integers.\n",
        "#Input: [10, 15, 17, 23, 28, 31]\n",
        "#Output: [17, 23, 31]\n",
        "\n",
        "def is_prime(n):\n",
        "  if n<2:\n",
        "    return \"prime not defined\"\n",
        "  for i in range(2,int(n**0.5)+1):\n",
        "    if n%i ==0:\n",
        "      return False\n",
        "  return True\n",
        "\n",
        "\n",
        "num =[10, 15, 17, 23, 28, 31]\n",
        "primes =[i for i in num if is_prime(i)]\n",
        "print(primes)"
      ]
    },
    {
      "cell_type": "code",
      "execution_count": null,
      "metadata": {
        "colab": {
          "base_uri": "https://localhost:8080/"
        },
        "id": "7IqWk7HMJoTh",
        "outputId": "e6204e3d-bd44-4fbe-e937-353f12ae4eb5"
      },
      "outputs": [
        {
          "data": {
            "text/plain": [
              "(2, 5, 3.5)"
            ]
          },
          "execution_count": 17,
          "metadata": {},
          "output_type": "execute_result"
        }
      ],
      "source": [
        "#Write a function that takes a list of numbers and returns minimum, maximum, and average in one call.\n",
        "\n",
        "def stat(numbers):\n",
        "  minimum =min(numbers)\n",
        "  maximum =max(numbers)\n",
        "  average =sum(numbers)/len(numbers)\n",
        "  return minimum,maximum,average\n",
        "numbers =[2,3,4,5]\n",
        "\n",
        "stat(numbers)"
      ]
    },
    {
      "cell_type": "code",
      "execution_count": null,
      "metadata": {
        "colab": {
          "base_uri": "https://localhost:8080/"
        },
        "id": "aaaONy0gKBco",
        "outputId": "b7482948-3397-4467-a398-a1a878ded9fa"
      },
      "outputs": [
        {
          "name": "stdout",
          "output_type": "stream",
          "text": [
            "[('Charlie', 90), ('Alice', 85), ('Bob', 72)]\n"
          ]
        }
      ],
      "source": [
        "#Given a list of tuples containing student names and their scores:\n",
        "# students = [(\"Alice\", 85), (\"Bob\", 72), (\"Charlie\", 90)]\n",
        "\n",
        "students = [(\"Alice\", 85), (\"Bob\", 72), (\"Charlie\", 90)]\n",
        "sorted_students = sorted(students, key = lambda x :x[1], reverse=True)\n",
        "print(sorted_students)\n",
        "\n",
        "\n"
      ]
    },
    {
      "cell_type": "code",
      "execution_count": null,
      "metadata": {
        "id": "qBY8D4d-nrJ3"
      },
      "outputs": [],
      "source": [
        "#Extract only the student names using map\n",
        "names = list(map(lambda x: x[0], students))\n"
      ]
    },
    {
      "cell_type": "code",
      "execution_count": null,
      "metadata": {
        "colab": {
          "base_uri": "https://localhost:8080/"
        },
        "id": "cQmdZ3ckoJ0G",
        "outputId": "a084b4a0-8a4b-4d2d-b322-f4b72e2c1872"
      },
      "outputs": [
        {
          "data": {
            "text/plain": [
              "[125, 512, 343, 729]"
            ]
          },
          "execution_count": 48,
          "metadata": {},
          "output_type": "execute_result"
        }
      ],
      "source": [
        "#👉 Write a higher-order function apply_operation(numbers, func) that applies a given function to each number in a list.\n",
        "\n",
        "#Test it with a square function and a cube function.\n",
        "\n",
        "def apply_operation(numbers,func):\n",
        "  return [func(x) for x in numbers]\n",
        "\n",
        "def square(x):\n",
        "  return x**2\n",
        "def cube(x):\n",
        "  return x * x *x\n",
        "\n",
        "numbers =[5, 8 ,7, 9]\n",
        "apply_operation(numbers, square)\n",
        "apply_operation(numbers, cube)"
      ]
    },
    {
      "cell_type": "code",
      "execution_count": null,
      "metadata": {
        "colab": {
          "base_uri": "https://localhost:8080/"
        },
        "id": "8jawiSquoq0X",
        "outputId": "e0602cc8-d04c-4304-8b16-e7d901a453c3"
      },
      "outputs": [
        {
          "data": {
            "text/plain": [
              "[25, 64, 49, 81]"
            ]
          },
          "execution_count": 49,
          "metadata": {},
          "output_type": "execute_result"
        }
      ],
      "source": [
        "apply_operation(numbers, square)"
      ]
    },
    {
      "cell_type": "code",
      "execution_count": null,
      "metadata": {
        "id": "5ZUMf9_VqOJl"
      },
      "outputs": [],
      "source": [
        "#Write recursive functions for:\n",
        "\n",
        "'''Factorial of a number\n",
        "\n",
        "Fibonacci sequence up to n terms'''\n",
        "\n",
        "\n",
        "def fact(n):\n",
        "  if n<0:\n",
        "    return \"fact not defined for a negative number\"\n",
        "  elif n==0 or n ==1:\n",
        "    return 1\n",
        "  elif n==2:\n",
        "    return 2\n",
        "  else:\n",
        "    return n*fact(n-1)"
      ]
    },
    {
      "cell_type": "code",
      "source": [
        "#Compare recursion vs loop (time & space complexity). Which one is more efficient for large numbers? Why? ----interview question"
      ],
      "metadata": {
        "id": "-C4Ze0ixAOyE"
      },
      "execution_count": null,
      "outputs": []
    },
    {
      "cell_type": "code",
      "execution_count": null,
      "metadata": {
        "colab": {
          "base_uri": "https://localhost:8080/"
        },
        "id": "k23xwFjbsyBf",
        "outputId": "28c21d95-b0a5-43b2-aa82-4547c10a82a8"
      },
      "outputs": [
        {
          "data": {
            "text/plain": [
              "120"
            ]
          },
          "execution_count": 51,
          "metadata": {},
          "output_type": "execute_result"
        }
      ],
      "source": [
        "fact(5)"
      ]
    },
    {
      "cell_type": "markdown",
      "metadata": {
        "id": "FHWsl1jYxlAw"
      },
      "source": [
        "#File Handling in Python\n",
        "In Python, files are handled in 3 steps:\n",
        "\n",
        "Open the file\n",
        "\n",
        "Read/Write/Append (do something with it)\n",
        "\n",
        "Close the file\n",
        "\n",
        "Common file modes:\n",
        "\n",
        "\"r\" → read (file must exist)\n",
        "\n",
        "\"w\" → write (creates new file or overwrites existing)\n",
        "\n",
        "\"a\" → append (adds to existing file)\n",
        "\n",
        "\"r+\" → read & write\n",
        "\n",
        "\"x\" → create new file (error if exists)\n"
      ]
    },
    {
      "cell_type": "code",
      "execution_count": null,
      "metadata": {
        "colab": {
          "base_uri": "https://localhost:8080/"
        },
        "id": "-xQN1I2VszKL",
        "outputId": "84971ad8-b75d-41d9-ee20-772c5eb719ad"
      },
      "outputs": [
        {
          "name": "stdout",
          "output_type": "stream",
          "text": [
            "“I developed a strong interest in data and machine learning during my time as an Assistant Professor, which led me to upskill in Python, ML, SQL, and Power BI. Now, I want to apply these skills to solve real-world business problems and grow my career as a Data Scientist.”\n"
          ]
        }
      ],
      "source": [
        "f = open(\"HR.txt\", \"r\")  #Read mode\n",
        "content =f.read()\n",
        "print(content)\n",
        "\n"
      ]
    },
    {
      "cell_type": "markdown",
      "metadata": {
        "id": "RTmm4LJCy-fx"
      },
      "source": [
        "Why do we need f.close()?\n",
        "\n",
        "When you open() a file, Python creates a connection between your program and the file on your computer.\n",
        "\n",
        "If you don’t close() it:\n",
        "\n",
        "The file stays open in memory.\n",
        "\n",
        "It may cause memory leaks or prevent other programs from using that file.\n",
        "\n",
        "On some systems, data may not be saved properly until you close it.\n",
        "\n",
        "So, always close the file after you’re done.\n"
      ]
    },
    {
      "cell_type": "code",
      "execution_count": null,
      "metadata": {
        "id": "SEAcSztRxxKf"
      },
      "outputs": [],
      "source": [
        "f =open(\"text.txt\",\"w\")\n",
        "f.write(\"Hello Revu\")\n",
        "f.close()"
      ]
    },
    {
      "cell_type": "code",
      "execution_count": null,
      "metadata": {
        "id": "IW20sDjIymIf"
      },
      "outputs": [],
      "source": [
        "f = open(\"output.txt\", \"w\")\n",
        "f.write(\"Hello Data Science!\")\n",
        "f.close()\n"
      ]
    },
    {
      "cell_type": "code",
      "execution_count": null,
      "metadata": {
        "id": "S4QFjOeS4Kdw"
      },
      "outputs": [],
      "source": [
        "f=open(\"output.txt\",\"a\")\n",
        "f.write(\"\\n adding another line\")\n",
        "\n",
        "f.close()"
      ]
    },
    {
      "cell_type": "code",
      "execution_count": null,
      "metadata": {
        "colab": {
          "base_uri": "https://localhost:8080/"
        },
        "id": "aU9j_Psu4gna",
        "outputId": "714356ce-45c1-4a71-cc74-281efcd2dff9"
      },
      "outputs": [
        {
          "name": "stdout",
          "output_type": "stream",
          "text": [
            "Hello Data Science!\n",
            " adding another line\n"
          ]
        }
      ],
      "source": [
        "f = open(\"output.txt\", \"r\")\n",
        "conte =f.read()\n",
        "print(conte)\n",
        "f.close()\n"
      ]
    },
    {
      "cell_type": "markdown",
      "metadata": {
        "id": "QzGPz9-545Yb"
      },
      "source": [
        "Using with open (Best Practice)\n",
        "\n",
        "You don’t need f.close() manually:"
      ]
    },
    {
      "cell_type": "code",
      "execution_count": null,
      "metadata": {
        "colab": {
          "base_uri": "https://localhost:8080/"
        },
        "id": "K3qkCY6W4uun",
        "outputId": "69b96a53-eed7-4281-c72f-ca00a88c6a74"
      },
      "outputs": [
        {
          "name": "stdout",
          "output_type": "stream",
          "text": [
            "“I developed a strong interest in data and machine learning during my time as an Assistant Professor, which led me to upskill in Python, ML, SQL, and Power BI. Now, I want to apply these skills to solve real-world business problems and grow my career as a Data Scientist.”\n"
          ]
        }
      ],
      "source": [
        "with open(\"HR.txt\",\"r\") as f:\n",
        "  content =f.read()\n",
        "print(content)"
      ]
    },
    {
      "cell_type": "code",
      "execution_count": null,
      "metadata": {
        "colab": {
          "background_save": true
        },
        "id": "0iM--F2o5Qgd"
      },
      "outputs": [],
      "source": [
        "#Can you read a CSV without pandas?\n",
        "#Yes, we can use Python’s built-in csv module. For example, csv.reader gives rows as lists and csv.DictReader gives rows as dictionaries.\n",
        "import csv\n",
        "with open(\"data.csv\",\"r\") as f:\n",
        "  reader =csv.reader(f)\n",
        "  for row in reader:\n",
        "    print(row)\n",
        "\n"
      ]
    },
    {
      "cell_type": "code",
      "execution_count": null,
      "metadata": {
        "id": "Y4ALFbVy70El",
        "colab": {
          "base_uri": "https://localhost:8080/"
        },
        "outputId": "b5896770-f55a-4a42-a80e-d328691e44b2"
      },
      "outputs": [
        {
          "output_type": "stream",
          "name": "stdout",
          "text": [
            "49\n"
          ]
        }
      ],
      "source": [
        "#Read file and count words\n",
        "\n",
        "with open(\"HR.txt\",\"r\") as f:\n",
        "  text =f.read()\n",
        "  words =text.split()\n",
        "  count= len(words)\n",
        "  print(count)"
      ]
    },
    {
      "cell_type": "code",
      "source": [
        "#Write even numbers to a file\n",
        "\n",
        "with open(\"even.txt\",\"w\") as f:\n",
        "  for i in range(1,20):\n",
        "    if i%2==0:\n",
        "      f.write(str(i)+ \"\\n\")"
      ],
      "metadata": {
        "id": "cBpSldtdBPFB"
      },
      "execution_count": null,
      "outputs": []
    },
    {
      "cell_type": "code",
      "source": [
        "#Copy content from one file to another.\n",
        "with open(\"HR.txt\",\"r\") as f1:\n",
        "  content =f1.read()\n",
        "\n",
        "with open(\"text.txt\",\"w\") as f2:\n",
        "  f2.write(content)"
      ],
      "metadata": {
        "id": "rEcZKK1RDpNh"
      },
      "execution_count": null,
      "outputs": []
    },
    {
      "cell_type": "markdown",
      "source": [
        "#Exceptions in Python\n",
        "An exception is an error that occurs during program execution.\n",
        "Python has built-in exceptions like ZeroDivisionError, FileNotFoundError, ValueError, etc.\n",
        "\n",
        "Using exception handling, we can prevent the program from crashing."
      ],
      "metadata": {
        "id": "qJkZOAsujFSG"
      }
    },
    {
      "cell_type": "code",
      "source": [
        "#try and except\n",
        "try:\n",
        "  x =10/0\n",
        "except ZeroDivisionError:\n",
        "  print(\"cannot divide by zero\")\n",
        "\n",
        "#try: Code that may cause an exception\n",
        "#except: Code to handle the exception"
      ],
      "metadata": {
        "colab": {
          "base_uri": "https://localhost:8080/"
        },
        "id": "6rUecn1sD-Zc",
        "outputId": "e40779ba-0b05-4d85-d4b8-17277ca1726f"
      },
      "execution_count": null,
      "outputs": [
        {
          "output_type": "stream",
          "name": "stdout",
          "text": [
            "cannot divide by zero\n"
          ]
        }
      ]
    },
    {
      "cell_type": "code",
      "source": [
        "#Handling Multiple Exceptions\n",
        "try:\n",
        "    x =int(input(\"enter the number: \"))\n",
        "    y =10/x\n",
        "except ZeroDivisionError:\n",
        "    print(\"cannot divide by zero\")\n",
        "except ValueError:\n",
        "    print(\"Enter a number\")\n"
      ],
      "metadata": {
        "colab": {
          "base_uri": "https://localhost:8080/"
        },
        "id": "sy9oatApleeu",
        "outputId": "d8979481-4144-4d0f-8bbc-88c6cbe2e46a"
      },
      "execution_count": null,
      "outputs": [
        {
          "output_type": "stream",
          "name": "stdout",
          "text": [
            "enter the number: a\n",
            "Enter a number\n"
          ]
        }
      ]
    },
    {
      "cell_type": "code",
      "source": [
        "#Finally Block\n",
        "try:\n",
        "  f =open(\"HR.txt\",\"r\")\n",
        "  content =f.read()\n",
        "except FileNotFoundError:\n",
        "  print(\"file not found\")\n",
        "\n",
        "finally:\n",
        "  print(\"This will always execute\")\n",
        "\n",
        "#finally always executes, even if there’s an exception. Useful to close files or release resources."
      ],
      "metadata": {
        "colab": {
          "base_uri": "https://localhost:8080/"
        },
        "id": "AVXEeCvQnYIU",
        "outputId": "ce42cdc1-bfaa-476a-c034-6aafbfd83d14"
      },
      "execution_count": null,
      "outputs": [
        {
          "output_type": "stream",
          "name": "stdout",
          "text": [
            "file not found\n",
            "This will always execute\n"
          ]
        }
      ]
    },
    {
      "cell_type": "code",
      "source": [
        "#Raising Custom Exceptions\n",
        "#You can create custom error messages for your rules.\n",
        "\n",
        "age =int(input(\"enter the age: \"))\n",
        "if age<=0:\n",
        "  raise ValueError(\"age cannot be negative\")\n"
      ],
      "metadata": {
        "id": "zIztzVd2oAqY"
      },
      "execution_count": null,
      "outputs": []
    },
    {
      "cell_type": "markdown",
      "source": [
        "##How do you handle exceptions in Python?\n",
        "\n",
        "In Python, I handle exceptions using try-except blocks. I put the code that might raise an error inside a try block and handle specific errors in the except block. This prevents the program from crashing and allows me to provide meaningful messages or take corrective action. I can also use finally to execute code regardless of whether an exception occurs.\n",
        "\n",
        "##How do you validate user input or dataset values?\n",
        "\n",
        "I validate input or dataset values by checking data types, ranges, or conditions, and using exception handling for unexpected values. This ensures that my data is clean and prevents runtime errors when processing or modeling."
      ],
      "metadata": {
        "id": "QG0O0GZRrkVr"
      }
    },
    {
      "cell_type": "code",
      "source": [
        "# eg: How do you validate user input or dataset values?\n",
        "try:\n",
        "    age = int(input(\"Enter age: \"))\n",
        "    if age < 0:\n",
        "        raise ValueError(\"Age cannot be negative!\")\n",
        "except ValueError as e:\n",
        "    print(\"Invalid input:\", e)\n"
      ],
      "metadata": {
        "id": "l066CWH3rlK1"
      },
      "execution_count": null,
      "outputs": []
    },
    {
      "cell_type": "code",
      "source": [
        "#Divide by Zero Handling\n",
        "\n",
        "try:\n",
        "  a =int(input(\"enter the number: \"))\n",
        "  b =int(input(\"enter the number: \"))\n",
        "  print(\"result\", a/b)\n",
        "except ZeroDivisionError:\n",
        "  print(\"cannot divide by zero\")"
      ],
      "metadata": {
        "colab": {
          "base_uri": "https://localhost:8080/"
        },
        "id": "1ojEscQcsovL",
        "outputId": "5d7aa545-00aa-4487-b285-4a1d1a1aa6de"
      },
      "execution_count": null,
      "outputs": [
        {
          "output_type": "stream",
          "name": "stdout",
          "text": [
            "enter the number: 5\n",
            "enter the number: 0\n",
            "cannot divide by zero\n"
          ]
        }
      ]
    },
    {
      "cell_type": "code",
      "source": [],
      "metadata": {
        "id": "gMgIcJlBtDDG"
      },
      "execution_count": null,
      "outputs": []
    },
    {
      "cell_type": "markdown",
      "source": [
        "#Object Oriented Programming is a fundamental concept in Python, empowering developers to build modular, maintainable, and scalable applications.\n",
        "\n",
        "#OOP Concepts in Python\n",
        "\n",
        "Class in Python\n",
        "\n",
        "Objects in Python\n",
        "\n",
        "Polymorphism in Python\n",
        "\n",
        "Encapsulation in Python\n",
        "\n",
        "Inheritance in Python\n",
        "\n",
        "Data Abstraction in Python\n",
        "\n",
        "\n",
        "#OOP (Object-Oriented Programming) is a way of structuring code using classes and objects.\n",
        "Class → A blueprint (like a plan of a house).\n",
        "\n",
        "Object → An actual thing built from that blueprint (like your real house)."
      ],
      "metadata": {
        "id": "CaPk5ZTT6fpZ"
      }
    },
    {
      "cell_type": "code",
      "source": [
        "#Step 1: Creating a Class\n",
        "\n",
        "#In Python, you define a class using the class keyword.\n",
        "\n",
        "# A simple class\n",
        "\n",
        "class car:\n",
        "  #properties or variables\n",
        "  brand =\"Tesla\"\n",
        "  color =\"Red\"\n",
        "\n",
        "  #methods(functions inside a class)\n",
        "  def drive(self):\n",
        "    print(\"The car is driving\")"
      ],
      "metadata": {
        "id": "mwORvZa7lFSq"
      },
      "execution_count": null,
      "outputs": []
    },
    {
      "cell_type": "code",
      "source": [
        "#creating objects\n",
        "car1 =car()\n",
        "car2 =car()\n",
        "print(car1.brand)\n",
        "print(car2.color)\n",
        "car1.drive()"
      ],
      "metadata": {
        "colab": {
          "base_uri": "https://localhost:8080/"
        },
        "id": "CSSSlU02ojsV",
        "outputId": "1cff2667-5588-4a47-c4bc-084b6962aed0"
      },
      "execution_count": null,
      "outputs": [
        {
          "output_type": "stream",
          "name": "stdout",
          "text": [
            "Tesla\n",
            "Red\n",
            "The car is driving\n"
          ]
        }
      ]
    },
    {
      "cell_type": "code",
      "source": [
        "#Step 3: Using __init__ (Constructor)\n",
        "#We usually want to give each object its own unique values.\n",
        "#For that, we use the constructor method __init__.\n",
        "\n",
        "class car:\n",
        "  # constructor method (runs automatically when object is created)\n",
        "  def __init__(self,brand,color):\n",
        "    self.brand =brand\n",
        "    self.color =color\n",
        "  #methods\n",
        "  def drive(self):\n",
        "    print(f\"{self.brand} is driving and its color is {self.color}\")\n"
      ],
      "metadata": {
        "id": "be6QdyETotE3"
      },
      "execution_count": null,
      "outputs": []
    },
    {
      "cell_type": "code",
      "source": [
        "car1 =car(\"Tesla\",\"white\")\n",
        "car1.drive()"
      ],
      "metadata": {
        "colab": {
          "base_uri": "https://localhost:8080/"
        },
        "id": "9mGQ-Idmpw7U",
        "outputId": "5c7842db-ffa3-41ec-8247-ea90f8cf1977"
      },
      "execution_count": null,
      "outputs": [
        {
          "output_type": "stream",
          "name": "stdout",
          "text": [
            "Tesla is driving and its color is white\n"
          ]
        }
      ]
    },
    {
      "cell_type": "code",
      "source": [
        "car2=car(\"honda\",\"red\")\n",
        "car2.drive()"
      ],
      "metadata": {
        "colab": {
          "base_uri": "https://localhost:8080/"
        },
        "id": "8JkGSFMarZsc",
        "outputId": "df82ab1f-4fb6-43cf-ba5c-215541cb9040"
      },
      "execution_count": null,
      "outputs": [
        {
          "output_type": "stream",
          "name": "stdout",
          "text": [
            "honda is driving\n"
          ]
        }
      ]
    },
    {
      "cell_type": "code",
      "source": [
        "car2.color"
      ],
      "metadata": {
        "colab": {
          "base_uri": "https://localhost:8080/",
          "height": 36
        },
        "id": "rZmt7XIBrhtd",
        "outputId": "c2a63aba-0f4a-4be0-ff12-7c769775dc1b"
      },
      "execution_count": null,
      "outputs": [
        {
          "output_type": "execute_result",
          "data": {
            "text/plain": [
              "'red'"
            ],
            "application/vnd.google.colaboratory.intrinsic+json": {
              "type": "string"
            }
          },
          "metadata": {},
          "execution_count": 9
        }
      ]
    },
    {
      "cell_type": "markdown",
      "source": [
        "#Encapsulation in Python\n",
        "Encapsulation = binding (wrapping) data + methods together in one unit (class).\n",
        "\n",
        "It also means restricting direct access to data, so it cannot be modified carelessly.\n",
        "\n",
        "Think of it like a capsule medicine → all ingredients are hidden inside, only outer shell is visible.\n",
        "\n",
        "Internal details of an object is hidden from outside world.\n",
        "\n",
        "private =2__ , private properties cant access directly.\n",
        "protected=1_\n",
        "\n",
        "#Why Encapsulation? (Interview Style Answer)\n",
        "\n",
        "To protect data from accidental changes.\n",
        "\n",
        "To control how data is accessed/modified (using methods).\n",
        "\n",
        "To make code more secure and organized."
      ],
      "metadata": {
        "id": "Zvl1SIDcZDh6"
      }
    },
    {
      "cell_type": "code",
      "source": [
        "#Example: Without Encapsulation ❌\n",
        "class BankAccount:\n",
        "    def __init__(self, balance):\n",
        "        self.balance = balance   # public variable\n",
        "\n",
        "account = BankAccount(1000)\n",
        "print(account.balance)  # Anyone can see balance\n",
        "\n",
        "account.balance = -500  # ❌ Wrong update (no control)\n",
        "print(account.balance)  # -500 (invalid!)\n"
      ],
      "metadata": {
        "id": "6EbmUZOZfvtL"
      },
      "execution_count": null,
      "outputs": []
    },
    {
      "cell_type": "code",
      "source": [
        "#Example 1: Simple Encapsulation\n",
        "\n",
        "\"\"\" In Python, we can make a variable private (hidden) by using __ (double underscore).\n",
        "This way, no one can directly access or modify it outside the class.\"\"\"\n",
        "\n",
        "class BankAccount1:\n",
        "  def __init__(self,balance):\n",
        "    self.__balance =balance #private variable\n",
        "\n",
        "  def show_balace(self):\n",
        "    print(f\"your balance is {self.__balance}\")"
      ],
      "metadata": {
        "id": "8S1ep918gl_1"
      },
      "execution_count": null,
      "outputs": []
    },
    {
      "cell_type": "code",
      "source": [
        "# create object\n",
        "account = BankAccount1(1000)\n",
        "\n",
        "# access using method\n",
        "account.show_balace()   # ✅ Your balance is 1000\n",
        "\n",
        "# try direct access\n",
        "# print(account.__balance)  # ❌ Error: can't access directly\n",
        "\n",
        "\"\"\" __balance is encapsulated (hidden).\n",
        "\n",
        "You can only see it through the show_balance() method.\"\"\""
      ],
      "metadata": {
        "colab": {
          "base_uri": "https://localhost:8080/",
          "height": 54
        },
        "id": "X6OfbiXvjtcj",
        "outputId": "2239029a-aca6-4aad-8832-cfc7a1d1e6b0"
      },
      "execution_count": null,
      "outputs": [
        {
          "output_type": "stream",
          "name": "stdout",
          "text": [
            "your balance is 1000\n"
          ]
        },
        {
          "output_type": "execute_result",
          "data": {
            "text/plain": [
              "' __balance is encapsulated (hidden).\\n\\nYou can only see it through the show_balance() method.'"
            ],
            "application/vnd.google.colaboratory.intrinsic+json": {
              "type": "string"
            }
          },
          "metadata": {},
          "execution_count": 29
        }
      ]
    },
    {
      "cell_type": "code",
      "source": [
        "#Example 2: Protected Variable (not strictly private)\n",
        "class Student:\n",
        "    def __init__(self, name, marks):\n",
        "        self._name = name      # protected (just a convention)\n",
        "        self._marks = marks\n",
        "\n",
        "    def display(self):\n",
        "        print(f\"{self._name} scored {self._marks} marks\")\n",
        "\n",
        "s = Student(\"Ravi\", 85)\n",
        "s.display()   # ✅ Ravi scored 85 marks\n",
        "\n",
        "print(s._name)   # ⚠️ Works, but not recommended\n"
      ],
      "metadata": {
        "id": "M2DmGrPR7jZJ"
      },
      "execution_count": null,
      "outputs": []
    },
    {
      "cell_type": "code",
      "source": [
        "#Example: Protected + Private Together\n",
        "class Student:\n",
        "    def __init__(self, name, marks):\n",
        "        self._name = name        # protected (convention: \"should not access directly\")\n",
        "        self.__marks = marks     # private (cannot access directly outside class)\n",
        "\n",
        "    def display(self):\n",
        "        print(f\"{self._name} scored {self.__marks} marks\")\n",
        "\n",
        "s = Student(\"Ravi\", 85)\n",
        "s.display()      # ✅ Ravi scored 85 marks\n",
        "\n",
        "print(s._name)   # ⚠️ Accessible, but not recommended\n",
        "# print(s.__marks)  # ❌ Error: private, cannot access directly\n"
      ],
      "metadata": {
        "colab": {
          "base_uri": "https://localhost:8080/"
        },
        "id": "Pc8P1Ccy-JI1",
        "outputId": "5f97c174-8eea-4cb0-c031-303fd55af6e7"
      },
      "execution_count": null,
      "outputs": [
        {
          "output_type": "stream",
          "name": "stdout",
          "text": [
            "Ravi scored 85 marks\n",
            "Ravi\n"
          ]
        }
      ]
    },
    {
      "cell_type": "markdown",
      "source": [
        "#\n",
        "Access Levels in Python\n",
        "\n",
        "Public: normal variable → self.name\n",
        "\n",
        "Protected: _name → (just a convention, not enforced)\n",
        "\n",
        "Private: __name → Python does name mangling, so it’s harder to access directly. Only using method/functions\n"
      ],
      "metadata": {
        "id": "g_mEa-8_-YNO"
      }
    },
    {
      "cell_type": "code",
      "source": [
        "class Student:\n",
        "    def __init__(self, name, roll):\n",
        "        self.name = name         # public\n",
        "        self._roll = roll        # protected (convention)\n",
        "        self.__marks = 90        # private\n",
        "\n",
        "s = Student(\"Rahul\", 101)\n",
        "\n",
        "print(s.name)    # ✅ Public → accessible\n",
        "print(s._roll)   # ⚠️ Technically accessible, but should avoid\n",
        "# print(s.__marks) ❌ Error (private)\n"
      ],
      "metadata": {
        "colab": {
          "base_uri": "https://localhost:8080/"
        },
        "id": "rlPynTlN-wYJ",
        "outputId": "76701714-c5b0-4d21-870f-7030dd4710e1"
      },
      "execution_count": null,
      "outputs": [
        {
          "output_type": "stream",
          "name": "stdout",
          "text": [
            "Rahul\n",
            "101\n"
          ]
        }
      ]
    },
    {
      "cell_type": "markdown",
      "source": [
        "##Getter and Setter in Encapsulation\n",
        "Getter Method → A method that is used to access (get) the value of a private variable safely.\n",
        "\n",
        "Setter Method → A method that is used to modify (set) the value of a private variable safely.\n",
        "\n",
        "Why Use Them? (Interview Answer)\n",
        "\n",
        "To control access to private variables.\n",
        "\n",
        "To validate data before updating (e.g., deposit must be positive).\n",
        "\n",
        "To follow OOP best practices (data hiding + controlled access).\n",
        "\n",
        "👉 If an interviewer asks “Why do we need getter & setter if we can access variables directly?”\n",
        "\n",
        "You can answer:\n",
        "\n",
        "✅ Because getters and setters allow us to add validation and keep the data safe.\n",
        "\n",
        "Direct access can lead to invalid or corrupted data."
      ],
      "metadata": {
        "id": "Mk8BHfRBA05S"
      }
    },
    {
      "cell_type": "code",
      "source": [
        "#Case 2: With Getter & Setter\n",
        "# Case 2: With Getter & Setter\n",
        "class BankAccount2:\n",
        "    def __init__(self, balance):\n",
        "        self.__balance = balance   # 🔒 private variable\n",
        "\n",
        "    # Getter method\n",
        "    def get_balance(self):\n",
        "        return self.__balance\n",
        "\n",
        "    # Setter method\n",
        "    def set_balance(self, amount):\n",
        "        if amount < 0:\n",
        "            print(\"❌ Balance cannot be negative!\")\n",
        "        else:\n",
        "            self.__balance = amount\n",
        "            print(\"✅ Balance updated successfully\")\n",
        "\n",
        "# Example usage\n",
        "acc = BankAccount2(5000)\n",
        "\n",
        "print(acc.get_balance())   # 5000\n",
        "\n",
        "acc.set_balance(-1000)     # ❌ Balance cannot be negative!\n",
        "print(acc.get_balance())   # 5000\n",
        "\n",
        "acc.set_balance(8000)      # ✅ Balance updated successfully\n",
        "print(acc.get_balance())   # 8000\n"
      ],
      "metadata": {
        "colab": {
          "base_uri": "https://localhost:8080/"
        },
        "id": "liXrhh0vCqlP",
        "outputId": "9cd3160a-eee0-488a-a9bf-209d5c8e1242"
      },
      "execution_count": null,
      "outputs": [
        {
          "output_type": "stream",
          "name": "stdout",
          "text": [
            "5000\n",
            "❌ Balance cannot be negative!\n",
            "5000\n",
            "✅ Balance updated successfully\n",
            "8000\n"
          ]
        }
      ]
    },
    {
      "cell_type": "markdown",
      "source": [
        "4. How to Explain in Interview\n",
        "\n",
        "If interviewer asks:\n",
        "👉 “Explain getter and setter in encapsulation with an example.”\n",
        "\n",
        "You can say:\n",
        "\n",
        "🔹 In encapsulation, we make variables private using __. To access them, we use getter methods, and to modify them, we use setter methods.\n",
        "🔹 This ensures that data is always safe and valid.\n",
        "🔹 For example, in a bank account, balance should not be directly modified. Instead, we use a getter to check balance and a setter to deposit money safely."
      ],
      "metadata": {
        "id": "u5_eho4cFtNV"
      }
    },
    {
      "cell_type": "code",
      "source": [],
      "metadata": {
        "id": "qRWaq9tED6b6"
      },
      "execution_count": null,
      "outputs": []
    },
    {
      "cell_type": "markdown",
      "source": [
        "#Inheritance in Python\n",
        "1. What is Inheritance?\n",
        "\n",
        "Definition: Inheritance is when one class (child) reuses the properties and methods of another class (parent).\n",
        "\n",
        "Real life example:\n",
        "\n",
        "Suppose you have a general class Vehicle (with wheels, engine, start/stop).\n",
        "\n",
        "A Car and a Bike are both Vehicles, so they inherit those properties but also add their own features.\n",
        "\n",
        "👉 This avoids code duplication and promotes reusability.\n",
        "\n",
        "2. Why Inheritance? (Interview Answer)\n",
        "\n",
        "Code Reusability – write once, use in many classes.\n",
        "\n",
        "Hierarchy Representation – natural parent-child relationships (Employee → Manager).\n",
        "\n",
        "Extensibility – child class can add new features or modify parent’s."
      ],
      "metadata": {
        "id": "_xm1Qm0nqkBu"
      }
    },
    {
      "cell_type": "code",
      "source": [
        "#Basic Syntax\n",
        "\n",
        "class Employee:\n",
        "  def __init__(self,name,salary):\n",
        "    self.name =name\n",
        "    self.salary=salary\n",
        "\n",
        "  def display(self):\n",
        "    print(f\"{self.name} and {self.salary}\")\n",
        "\n",
        "class manager(Employee):\n",
        "  pass"
      ],
      "metadata": {
        "id": "GRXGLX4cD_bJ"
      },
      "execution_count": null,
      "outputs": []
    },
    {
      "cell_type": "code",
      "source": [
        "emp1 =manager(\"Revu\",80000)\n",
        "emp1.display()\n"
      ],
      "metadata": {
        "id": "kI83AIZAFRDR",
        "colab": {
          "base_uri": "https://localhost:8080/"
        },
        "outputId": "793c8345-6191-498c-a063-4ccc9ed3970d"
      },
      "execution_count": null,
      "outputs": [
        {
          "output_type": "stream",
          "name": "stdout",
          "text": [
            "Revu and 80000\n"
          ]
        }
      ]
    },
    {
      "cell_type": "code",
      "source": [
        "# Adding properties and methods to a child class\n",
        "\n",
        "class Employee:\n",
        "  def __init__(self,name,salary):\n",
        "    self.name =name\n",
        "    self.salary =salary\n",
        "\n",
        "  def show_details(self):\n",
        "    print(f\" {self.name} and {self.salary}\")\n",
        "\n",
        "class Manager(Employee):  #creating a child class Manager from the parent class Employee\n",
        "  def __init__(self,name,salary,department):  # Adding a property \"department\" into the child class\n",
        "    Employee.__init__(self,name,salary)    # Calling the parent class constructor to get name and salary\n",
        "    self.department =department\n",
        "    self.team_size =0   # creating \"team_size\" for later use\n",
        "\n",
        "  def display(self):\n",
        "     print(f\" {self.name} is managing a {self.team_size} team members\")\n"
      ],
      "metadata": {
        "id": "PlT2eCRcsw6O"
      },
      "execution_count": null,
      "outputs": []
    },
    {
      "cell_type": "code",
      "source": [
        "manager1 =Manager(\"Revu\",80000,\"Data Science\")\n",
        "manager1.team_size =5\n",
        "manager1.display()\n",
        "manager1.show_details()\n",
        "\n"
      ],
      "metadata": {
        "colab": {
          "base_uri": "https://localhost:8080/"
        },
        "id": "13JnWtGCwU1j",
        "outputId": "56327ef1-465f-4b9e-9e1b-f022972165df"
      },
      "execution_count": null,
      "outputs": [
        {
          "output_type": "stream",
          "name": "stdout",
          "text": [
            " Revu is managing a 5 team members\n",
            " Revu and 80000\n"
          ]
        }
      ]
    },
    {
      "cell_type": "markdown",
      "source": [
        "4. Types of Inheritance in Python\n",
        "\n",
        "Python supports 5 types of inheritance:\n",
        "\n",
        "Single Inheritance (One parent → One child)\n",
        "\n",
        "Multiple Inheritance (Child inherits from many parents)\n",
        "\n",
        "Multilevel Inheritance (Grandparent → Parent → Child)\n",
        "\n",
        "Hierarchical Inheritance (One parent → Many children)\n",
        "\n",
        "Hybrid Inheritance (Combination of above)"
      ],
      "metadata": {
        "id": "0LkDcKdGyuXZ"
      }
    },
    {
      "cell_type": "markdown",
      "source": [
        "# What is Method Overriding?\n",
        "\n",
        "Overriding means:\n",
        "A child class (subclass) provides its own version of a method that is already defined in the parent class (superclass).\n",
        "\n",
        "This is useful when the child class needs different behavior for the same method name."
      ],
      "metadata": {
        "id": "sgXLiAAh2xs7"
      }
    },
    {
      "cell_type": "code",
      "source": [
        "class animals:\n",
        "  def __init__(self,name,color):\n",
        "    self.name =name\n",
        "    self.color =color\n",
        "\n",
        "  def display(self):\n",
        "    print(f\"{self.name} and {self.color}\")\n",
        "\n",
        "class dog(animals):\n",
        "  pass\n",
        "  def display(self):\n",
        "    print(\"dogs\")\n"
      ],
      "metadata": {
        "id": "EDCABVJk_Z_w"
      },
      "execution_count": null,
      "outputs": []
    },
    {
      "cell_type": "code",
      "source": [
        "d =dog(\"tiger\",\"yellow\")\n",
        "d.display()   # Here overriding"
      ],
      "metadata": {
        "colab": {
          "base_uri": "https://localhost:8080/"
        },
        "id": "2OkU_UC5Aqyg",
        "outputId": "cc02f5c7-4a00-4856-a969-39e5f6dd09ea"
      },
      "execution_count": null,
      "outputs": [
        {
          "output_type": "stream",
          "name": "stdout",
          "text": [
            "dogs\n"
          ]
        }
      ]
    },
    {
      "cell_type": "markdown",
      "source": [
        "Why do we need super()?\n",
        "\n",
        "Imagine you are inheriting some functionality from your parent class, but you want to add extra behavior, not completely replace it.\n",
        "\n",
        "Without super(), if you override a method, the parent method gets ignored.\n",
        "With super(), you can extend the parent’s method instead of replacing it fully."
      ],
      "metadata": {
        "id": "-Cgx3d_HBD7w"
      }
    },
    {
      "cell_type": "code",
      "source": [
        "# Using super() function and creating 2 classes from one parent class\n",
        "class Employee:\n",
        "  def __init__(self,name,salary):\n",
        "    self.name=name\n",
        "    self.salary=salary\n",
        "\n",
        "  def show_details(self):\n",
        "    print(f\"{self.name} and {self.salary}\")\n",
        "\n",
        "class Manager(Employee):\n",
        "  def __init__(self,name,salary,department):\n",
        "       super().__init__(name,salary)  #calls the parent constructor so that Employee can set up self.name and self.salary.\n",
        "       self.department =department\n",
        "  def show_details(self):\n",
        "     super().show_details()   #calls the parent’s version → prints Name and Salary.\n",
        "     print(f\" Department = {self.department}\") # Then, it will execute this and print department.\n",
        "\n",
        "\n",
        "class developer(Employee):\n",
        "  def __init__(self,name,salary,programming_language):\n",
        "    super().__init__(name,salary)\n",
        "    self.programming_language =programming_language\n",
        "\n",
        "  def show_details(self):\n",
        "     super().show_details()\n",
        "     print(f\" programming language = {self.programming_language}\")"
      ],
      "metadata": {
        "id": "gy_SQ2UpyV_P"
      },
      "execution_count": null,
      "outputs": []
    },
    {
      "cell_type": "code",
      "source": [
        "manager1 = Manager(\"Revu\",100000,\"DS\")\n",
        "manager1.show_details()"
      ],
      "metadata": {
        "colab": {
          "base_uri": "https://localhost:8080/"
        },
        "id": "AwGCC4qd-h8B",
        "outputId": "23bae7b2-d3c0-4219-f982-058799b7194f"
      },
      "execution_count": null,
      "outputs": [
        {
          "output_type": "stream",
          "name": "stdout",
          "text": [
            "Revu and 100000\n",
            " Department = DS\n"
          ]
        }
      ]
    },
    {
      "cell_type": "code",
      "source": [
        "deveoper1=developer(\"revu\",80000,\"python\")\n",
        "deveoper1.show_details()"
      ],
      "metadata": {
        "colab": {
          "base_uri": "https://localhost:8080/"
        },
        "id": "fF-s7fR3-wM3",
        "outputId": "76738257-cf81-464c-97db-8a8db6fb5cd7"
      },
      "execution_count": null,
      "outputs": [
        {
          "output_type": "stream",
          "name": "stdout",
          "text": [
            "revu and 80000\n",
            " programming language = python\n"
          ]
        }
      ]
    },
    {
      "cell_type": "code",
      "source": [
        "# MMultiple Inheritance (Child inherits from many parents)\n",
        "\n",
        "class person:\n",
        "  def __init__(self,name):\n",
        "    self.name =name\n",
        "\n",
        "  def show_name(self):\n",
        "    print(f\"the name is {self.name}\")\n",
        "\n",
        "class employee:\n",
        "  def __init__(self,salary):\n",
        "    self.salary =salary\n",
        "\n",
        "  def show_salary(self):\n",
        "    print(f\" the salary is {self.salary}\")\n",
        "\n",
        "class Manager(person, employee):\n",
        "  def __init__(self,name,salary):\n",
        "    person.__init__(self,name)\n",
        "    employee.__init__(self,salary)\n",
        "\n",
        "  def show_details(self):\n",
        "    self.show_name()\n",
        "    self.show_salary()\n"
      ],
      "metadata": {
        "id": "bYpSHIH-DduC"
      },
      "execution_count": null,
      "outputs": []
    },
    {
      "cell_type": "code",
      "source": [
        "manager =Manager(\"revu\",10000)\n",
        "manager.show_details()"
      ],
      "metadata": {
        "colab": {
          "base_uri": "https://localhost:8080/"
        },
        "id": "f-msXXrQGHsc",
        "outputId": "40ece926-53c1-4bf4-905e-fba0ae4faab0"
      },
      "execution_count": null,
      "outputs": [
        {
          "output_type": "stream",
          "name": "stdout",
          "text": [
            "the name is revu\n",
            " the salary is 10000\n"
          ]
        }
      ]
    },
    {
      "cell_type": "markdown",
      "source": [],
      "metadata": {
        "id": "qA5ZVpTjVQmZ"
      }
    },
    {
      "cell_type": "markdown",
      "source": [
        "Polymorphism in Python\n",
        "1. What is Polymorphism?\n",
        "\n",
        "Poly = many, Morphism = forms → “many forms”.\n",
        "\n",
        "Same function/method name can work in different ways depending on the context.\n",
        "\n",
        "👉 Example in real life:\n",
        "\n",
        "A person can be a student at college, a customer at a shop, and a child at home.\n",
        "\n",
        "Same person, different roles → polymorphism.\n",
        "\n",
        "2. Why Polymorphism? (Interview Answer)\n",
        "\n",
        "To make code flexible.\n",
        "\n",
        "To allow the same interface (function name) to work for different objects.\n",
        "\n",
        "To follow the principle of “one function, multiple behaviors.”\n",
        "\n",
        "3. Types of Polymorphism in Python\n",
        "\n",
        "Duck Typing (Python-specific)\n",
        "\n",
        "Operator Overloading\n",
        "\n",
        "Method Overloading (limited in Python)\n",
        "\n",
        "Method Overriding (in inheritance)"
      ],
      "metadata": {
        "id": "nhO58moKPtZo"
      }
    },
    {
      "cell_type": "code",
      "source": [
        "# Method Overriding -polymorphism example\n",
        "#This code demonstrates polymorphism in Python.\n",
        "#he base class shape defines a general perimeter method.\n",
        "#It has a method perimeter() but with pass (no implementation).\n",
        "#This is like saying: “Every shape must have a perimeter method, but I won’t define it here.”\n",
        "#Each subclass (circle, rectangle, triangle) implements its own version. The function print_perimeter() can accept any object with a perimeter()\n",
        "\n",
        "class shape:\n",
        "  def perimeter(self):\n",
        "    pass\n",
        "\n",
        "class circle(shape):\n",
        "  def __init__(self,radius):\n",
        "    self.radius =radius\n",
        "  def perimeter(self):\n",
        "     return 2*3.14*self.radius\n",
        "\n",
        "class rectangle(shape):\n",
        "  def __init__(self,length,width):\n",
        "    self.length =length\n",
        "    self.width =width\n",
        "\n",
        "  def perimeter(self):\n",
        "     return 2 * (self.length + self.width)\n",
        "\n",
        "class traingle(shape):\n",
        "  def __init__(self,side1,side2,side3):\n",
        "    self.side1 =side1\n",
        "    self.side2 =side2\n",
        "    self.side3 =side3\n",
        "\n",
        "  def perimeter(self):\n",
        "    return self.side1 +self.side2 +self.side3\n",
        "\n",
        "def print_perimeter(shape):\n",
        "  print(f\" the perimeter is {shape.perimeter()}\")\n"
      ],
      "metadata": {
        "id": "qNc4aMGYPyrQ"
      },
      "execution_count": null,
      "outputs": []
    },
    {
      "cell_type": "code",
      "source": [
        "cir =circle(5)\n",
        "rec =rectangle(2,5)\n",
        "tria =traingle(2,3,5)\n",
        "\n",
        "print_perimeter(cir)\n",
        "print_perimeter(rec)\n",
        "print_perimeter(tria)"
      ],
      "metadata": {
        "colab": {
          "base_uri": "https://localhost:8080/"
        },
        "id": "F0igoe0uS4uB",
        "outputId": "900fa672-3699-4d71-e703-d9dd3f1d0900"
      },
      "execution_count": null,
      "outputs": [
        {
          "output_type": "stream",
          "name": "stdout",
          "text": [
            " the perimeter is 31.400000000000002\n",
            " the perimeter is 14\n",
            " the perimeter is 10\n"
          ]
        }
      ]
    },
    {
      "cell_type": "code",
      "source": [],
      "metadata": {
        "id": "ziO7iiTgS7vu"
      },
      "execution_count": null,
      "outputs": []
    },
    {
      "cell_type": "markdown",
      "source": [
        "1. Abstract Class\n",
        "\n",
        "Think of an abstract class as a blueprint.\n",
        "\n",
        "It defines what needs to be done but not how it will be done.\n",
        "\n",
        "It can have abstract methods (methods with no implementation).\n",
        "\n",
        "#You cannot create objects from an abstract class directly.\n",
        "\n",
        "👉 In Python, abstract classes are created using abc (Abstract Base Class) module.\n",
        "\n",
        "2. Concrete Class\n",
        "\n",
        "A concrete class is the actual building made from the blueprint.\n",
        "\n",
        "It provides the real implementation of the abstract methods.\n",
        "\n",
        "You can create objects from concrete classes.\n",
        "\n",
        "🚗 Analogy (Cars & Driving License)\n",
        "\n",
        "Imagine a Driving License Test system.\n",
        "\n",
        "Abstract Class → Vehicle\n",
        "\n",
        "A \"Vehicle\" is a general idea (cars, bikes, buses are all vehicles).\n",
        "\n",
        "But you cannot drive a \"generic vehicle\", because it doesn’t exist in reality.\n",
        "\n",
        "It just says: every vehicle must have a way to start and drive."
      ],
      "metadata": {
        "id": "cVtxvaYBavOD"
      }
    },
    {
      "cell_type": "code",
      "source": [
        "from abc import ABC, abstractmethod\n",
        "\n",
        "class Employee(ABC):\n",
        "  def __init__(self,name, employee_id):\n",
        "    self.name =name\n",
        "    self.employee_id =employee_id\n",
        "\n",
        "  @abstractmethod\n",
        "  def calculate_salary(self):\n",
        "    pass\n",
        "\n",
        "  @abstractmethod\n",
        "  def get_full_info(self):\n",
        "    pass\n",
        "\n",
        "  def get_basic_info(self):\n",
        "    print(f\"name = {self.name} and id ={self.employee_id}\")\n",
        "\n",
        "\n",
        "class FullTimeEmployee(Employee):\n",
        "  def __init__(self,name,employee_id,salary):\n",
        "    super().__init__(name,employee_id)\n",
        "    self.salary =salary\n",
        "\n",
        "  def calculate_salary(self):\n",
        "     return f\" salary ={self.salary}\"\n",
        "  def get_full_info(self):\n",
        "     return f\" name ={self.name} , id ={self.employee_id} and salary ={self.salary}\"\n",
        "\n",
        "\n",
        "class PartTimeEmployee(Employee):\n",
        "  def __init__(self,name,employee_id,hourly_wage,hours_worked):\n",
        "    super().__init__(name,employee_id)\n",
        "    self.hourly_wage =hourly_wage\n",
        "    self.hours_worked=hours_worked\n",
        "\n",
        "  def calculate_salary(self):\n",
        "    total_salary = self.hours_worked * self.hourly_wage\n",
        "    return f\" Total salary ={total_salary}\"\n",
        "  def get_full_info(self):\n",
        "     return f\"name ={self.name} , id ={self.employee_id}\"\n",
        "\n",
        "\n",
        "\n"
      ],
      "metadata": {
        "id": "VU2mjH81jWiM"
      },
      "execution_count": null,
      "outputs": []
    },
    {
      "cell_type": "code",
      "source": [
        "full_time_emp = FullTimeEmployee(\"revu\",5,100000)\n",
        "part_time_emp =PartTimeEmployee(\"teju\",8,50000,10)\n",
        "\n",
        "full_time_emp.calculate_salary()\n"
      ],
      "metadata": {
        "colab": {
          "base_uri": "https://localhost:8080/",
          "height": 36
        },
        "id": "V2EcpkqxnoQp",
        "outputId": "006d0881-04e2-42c0-da3b-dfef811cf4f1"
      },
      "execution_count": null,
      "outputs": [
        {
          "output_type": "execute_result",
          "data": {
            "text/plain": [
              "' salary =100000'"
            ],
            "application/vnd.google.colaboratory.intrinsic+json": {
              "type": "string"
            }
          },
          "metadata": {},
          "execution_count": 76
        }
      ]
    },
    {
      "cell_type": "code",
      "source": [
        "part_time_emp.calculate_salary()"
      ],
      "metadata": {
        "colab": {
          "base_uri": "https://localhost:8080/",
          "height": 36
        },
        "id": "gC0tPb4voKUK",
        "outputId": "bdd95ae2-4ea5-44ac-fcce-2671ae2276fc"
      },
      "execution_count": null,
      "outputs": [
        {
          "output_type": "execute_result",
          "data": {
            "text/plain": [
              "' Total salary =500000'"
            ],
            "application/vnd.google.colaboratory.intrinsic+json": {
              "type": "string"
            }
          },
          "metadata": {},
          "execution_count": 77
        }
      ]
    },
    {
      "cell_type": "code",
      "source": [
        "part_time_emp.get_full_info()"
      ],
      "metadata": {
        "colab": {
          "base_uri": "https://localhost:8080/",
          "height": 36
        },
        "id": "8VgcCMYood1P",
        "outputId": "06e8d0aa-7317-4a33-ec7b-1a5a25b36cd9"
      },
      "execution_count": null,
      "outputs": [
        {
          "output_type": "execute_result",
          "data": {
            "text/plain": [
              "'name =teju , id =8'"
            ],
            "application/vnd.google.colaboratory.intrinsic+json": {
              "type": "string"
            }
          },
          "metadata": {},
          "execution_count": 78
        }
      ]
    },
    {
      "cell_type": "markdown",
      "source": [
        "What are Magic Methods?\n",
        "\n",
        "Magic methods are special methods in Python that start and end with double underscores → __methodname__.\n",
        "\n",
        "They are also called dunder methods (“double underscore”).\n",
        "\n",
        "Python uses them behind the scenes to perform common operations.\n"
      ],
      "metadata": {
        "id": "TVgLjHS8i94-"
      }
    },
    {
      "cell_type": "code",
      "source": [
        "\n",
        "#When you write 5 + 3, Python internally calls int.__add__(5, 3).\n",
        "\n",
        "#When you print an object, Python internally calls its __str__() method.\n",
        "\n",
        "#So, magic methods let you customize how objects behave with operators, printing, comparisons, etc."
      ],
      "metadata": {
        "id": "oyClqE8BokuP"
      },
      "execution_count": null,
      "outputs": []
    },
    {
      "cell_type": "code",
      "source": [
        "#Common Magic Methods\n",
        "# __init__ → Constructor\n",
        "#Runs when you create an object.\n",
        "\n",
        "class Student:\n",
        "    def __init__(self, name):\n",
        "        self.name = name\n",
        "\n",
        "s = Student(\"Ravi\")   # calls __init__\n",
        "print(s.name)         # Ravi\n"
      ],
      "metadata": {
        "colab": {
          "base_uri": "https://localhost:8080/"
        },
        "id": "Cs9iZ1JljYPS",
        "outputId": "97e82259-755e-4220-8ef6-0ff31412070e"
      },
      "execution_count": null,
      "outputs": [
        {
          "output_type": "stream",
          "name": "stdout",
          "text": [
            "Ravi\n"
          ]
        }
      ]
    },
    {
      "cell_type": "code",
      "source": [
        "#__str__ → String Representation\n",
        "#Controls what print(object) shows.\n",
        "\n",
        "class Student:\n",
        "    def __init__(self, name):\n",
        "        self.name = name\n",
        "\n",
        "    def __str__(self):\n",
        "       return f\"Student name is {self.name}\"\n",
        "\n",
        "s = Student(\"Ravi\")\n",
        "print(s)   # Student name is Ravi\n",
        "#Without __str__, it would print something ugly like <__main__.Student object at 0x...>."
      ],
      "metadata": {
        "colab": {
          "base_uri": "https://localhost:8080/"
        },
        "id": "OJ29Fcm4lUEd",
        "outputId": "079931b4-f222-4072-f044-cb4889d62496"
      },
      "execution_count": null,
      "outputs": [
        {
          "output_type": "stream",
          "name": "stdout",
          "text": [
            "Student name is Ravi\n"
          ]
        }
      ]
    },
    {
      "cell_type": "code",
      "source": [
        "# Adding Objects\n",
        "\n",
        "class Money:\n",
        "  def __init__(self,amount):\n",
        "    self.amount =amount\n",
        "\n",
        "  def __add__(self,other):\n",
        "    return Money(self.amount +other.amount)\n",
        "\n",
        "  def __str__(self):\n",
        "    return f\" the total amount : {self.amount}\"\n",
        "\n",
        "\n",
        "m1 =Money(20)\n",
        "m2 =Money(25)\n",
        "\n",
        "print(m1+m2)\n",
        "\n"
      ],
      "metadata": {
        "id": "5N8wQppbl9tN",
        "colab": {
          "base_uri": "https://localhost:8080/"
        },
        "outputId": "82301afc-d116-4957-f776-dde1996fb6a8"
      },
      "execution_count": null,
      "outputs": [
        {
          "output_type": "stream",
          "name": "stdout",
          "text": [
            " the total amount : 45\n"
          ]
        }
      ]
    },
    {
      "cell_type": "code",
      "source": [
        "class Student:\n",
        "    def __init__(self, marks):\n",
        "        self.marks = marks\n",
        "\n",
        "    def __lt__(self, other):\n",
        "        return self.marks < other.marks\n",
        "\n",
        "s1 = Student(100)\n",
        "s2 = Student(92)\n",
        "print(s1 < s2)\n"
      ],
      "metadata": {
        "colab": {
          "base_uri": "https://localhost:8080/"
        },
        "id": "HPwQxotoE7G2",
        "outputId": "cc9ee2e7-00c3-42d8-820a-1d61ba0b1cd5"
      },
      "execution_count": null,
      "outputs": [
        {
          "output_type": "stream",
          "name": "stdout",
          "text": [
            "False\n"
          ]
        }
      ]
    },
    {
      "cell_type": "code",
      "source": [
        "class Student:\n",
        "    def __init__(self, marks):\n",
        "        self.marks = marks\n",
        "\n",
        "    def __gt__(self, other):\n",
        "        return self.marks > other.marks\n",
        "\n",
        "s1 = Student(100)\n",
        "s2 = Student(92)\n",
        "print(s1 > s2)"
      ],
      "metadata": {
        "colab": {
          "base_uri": "https://localhost:8080/"
        },
        "id": "Ba_a-rawHZIj",
        "outputId": "c49980ca-689c-42e5-edd7-84478874bd8c"
      },
      "execution_count": null,
      "outputs": [
        {
          "output_type": "stream",
          "name": "stdout",
          "text": [
            "True\n"
          ]
        }
      ]
    },
    {
      "cell_type": "code",
      "source": [
        "class Student:\n",
        "    def __init__(self, marks):\n",
        "        self.marks = marks\n",
        "\n",
        "    def __lt__(self, other):   # <\n",
        "        return self.marks < other.marks\n",
        "\n",
        "    def __le__(self, other):  # <=\n",
        "        return self.marks <= other.marks\n",
        "\n",
        "    def __eq__(self, other):  # ==\n",
        "        return self.marks == other.marks\n",
        "\n",
        "    def __gt__(self, other):  # >\n",
        "        return self.marks > other.marks\n",
        "\n",
        "    def __ge__(self, other):  # >=\n",
        "        return self.marks >= other.marks\n",
        "s1 = Student(85)\n",
        "s2 = Student(92)\n",
        "\n",
        "print(s1 < s2)   # True\n",
        "print(s1 > s2)   # False\n",
        "print(s1 == s2)  # False\n",
        "print(s1 != s2)  # True\n",
        "print(s1 <= s2)  # True\n",
        "print(s1 >= s2)  # False\n"
      ],
      "metadata": {
        "colab": {
          "base_uri": "https://localhost:8080/"
        },
        "id": "kuOELnPLH-8T",
        "outputId": "d94e0c01-7b3b-4631-c64d-f310ea8fe9fc"
      },
      "execution_count": null,
      "outputs": [
        {
          "output_type": "stream",
          "name": "stdout",
          "text": [
            "True\n",
            "False\n",
            "False\n",
            "True\n",
            "True\n",
            "False\n"
          ]
        }
      ]
    },
    {
      "cell_type": "code",
      "source": [
        "# Operator overloading for Custom Object\n",
        "class CustomString:\n",
        "  def __init__(self,value):\n",
        "    self.value =value\n",
        "\n",
        "  def __add__(self,other):\n",
        "    if isinstance(other,(int,float)):\n",
        "      return CustomString(self.value + str(other))   #here other is the value itself, so no need of other.value\n",
        "    elif isinstance(other,str):\n",
        "      return CustomString(self.value + other)   # here other is the value itself, so no need of other.value\n",
        "    elif isinstance(other, CustomString):     # if b is a class object\n",
        "      return CustomString(self.value +other.value) # other.value is used to get the value inside the object\n",
        "    else:\n",
        "      return  NotImplemented\n",
        "\n",
        "  def __str__(self):\n",
        "    return f\"{self.value}\"\n",
        "\n",
        "a = CustomString(\"Average mark: \")\n",
        "b = 10\n",
        "result =a +b\n",
        "print(result)\n"
      ],
      "metadata": {
        "colab": {
          "base_uri": "https://localhost:8080/"
        },
        "id": "DYcmRCp9I6_n",
        "outputId": "3d7337a5-cb72-43dc-ff55-b79e0a99a0f8"
      },
      "execution_count": null,
      "outputs": [
        {
          "output_type": "stream",
          "name": "stdout",
          "text": [
            "Average mark: 10\n"
          ]
        }
      ]
    },
    {
      "cell_type": "code",
      "source": [
        "class BankAccount:\n",
        "  def __init__(self,name,balance):\n",
        "    self.name =name\n",
        "    self.balance =balance\n",
        "\n",
        "  def __add__(self,other):\n",
        "    return BankAccount(\"combined\",self.balance +other.balance)\n",
        "\n",
        "  def __sub__(self,amount):\n",
        "    if amount> self.balance:\n",
        "      print(\"insufficient balance\")\n",
        "      return self\n",
        "    return BankAccount(\"balance\", self.balance -amount)\n",
        "\n",
        "  def __str__(self):\n",
        "    return f\"{self.balance}\"\n",
        "\n",
        "acc1 =BankAccount(\"Rajeev\",1000)\n",
        "acc2 =BankAccount(\"Rajeev\",500)\n",
        "result = acc1+acc2\n",
        "balance = result -200\n",
        "print(balance)"
      ],
      "metadata": {
        "colab": {
          "base_uri": "https://localhost:8080/"
        },
        "id": "PqhiFttnMcgd",
        "outputId": "b8433a0b-7166-4c24-bf7a-b9b89ba528e9"
      },
      "execution_count": null,
      "outputs": [
        {
          "output_type": "stream",
          "name": "stdout",
          "text": [
            "1300\n"
          ]
        }
      ]
    },
    {
      "cell_type": "code",
      "source": [
        "# Duck Typing\n",
        "\n",
        "#In Python, you don’t need to tell the program the type of an object.\n",
        "#Python only cares about whether the object can do what you ask it to do.\n",
        "\n",
        "class Duck:\n",
        "    def quack(self):\n",
        "        print(\"Quack! Quack!\")\n",
        "\n",
        "class Person:\n",
        "    def quack(self):\n",
        "        print(\"I can quack too!\")\n",
        "\n",
        "def make_it_quack(creature):\n",
        "    creature.quack()  # Python only cares that 'creature' can quack\n",
        "\n",
        "d = Duck()\n",
        "p = Person()\n",
        "\n",
        "make_it_quack(d)  # Quack! Quack!\n",
        "make_it_quack(p)  # I can quack too!\n",
        "\n",
        "#make_it_quack doesn’t care whether the object is a Duck or a Person.\n",
        "#It only cares that the object has a .quack() method.\n",
        "#This is duck typing: behavior matters, not the type."
      ],
      "metadata": {
        "id": "94FKhFJ3aL0k"
      },
      "execution_count": null,
      "outputs": []
    },
    {
      "cell_type": "code",
      "source": [
        "#credit Card Payment vs Direct Cash Payment\n",
        "\n",
        "class CreditCardPay:\n",
        "  def __init__(self,amount):\n",
        "    self.amount =amount\n",
        "\n",
        "  def pay(self):\n",
        "    print(f\" {self.amount} paid using credit card\")\n",
        "\n",
        "class CashPayment:\n",
        "  def __init__(self,amount):\n",
        "    self.amount =amount\n",
        "\n",
        "  def pay(self):\n",
        "    print(f\" {self.amount} paid directly\")\n",
        "\n",
        "def payment(payment_method):  #Function to process payment\n",
        "  payment_method.pay()  #  # Duck typing: we only care that the object has a .pay() method\n",
        "\n",
        "credit_card =CreditCardPay(500)\n",
        "cash = CashPayment(600)\n",
        "\n",
        "payment(credit_card)\n",
        "payment(cash)"
      ],
      "metadata": {
        "colab": {
          "base_uri": "https://localhost:8080/"
        },
        "id": "51tUqyy5v6FV",
        "outputId": "af257405-3946-446d-ac46-5c4e000bc0c9"
      },
      "execution_count": null,
      "outputs": [
        {
          "output_type": "stream",
          "name": "stdout",
          "text": [
            " 500 paid using credit card\n",
            " 600 paid directly\n"
          ]
        }
      ]
    },
    {
      "cell_type": "code",
      "source": [
        "# Method Overloading\n",
        "#Method Overloading is when you have multiple methods in the same class with the same name but different parameters (different number or types of arguments).\n",
        "\n",
        "#a) Using Default Arguments\n",
        "class MathOps:\n",
        "    def add(self, a, b, c=0):\n",
        "        return a + b + c\n",
        "\n",
        "obj = MathOps()\n",
        "print(obj.add(2, 3))      # Output: 5\n",
        "print(obj.add(2, 3, 4))   # Output: 9\n"
      ],
      "metadata": {
        "colab": {
          "base_uri": "https://localhost:8080/"
        },
        "id": "cAsbpg9k8xmI",
        "outputId": "de4c1e18-72b9-46da-fdde-1eb50da7eb61"
      },
      "execution_count": null,
      "outputs": [
        {
          "output_type": "stream",
          "name": "stdout",
          "text": [
            "5\n",
            "9\n"
          ]
        }
      ]
    },
    {
      "cell_type": "code",
      "source": [
        "#b) Using Variable-Length Arguments (*args)\n",
        "class MathOps:\n",
        "    def add(self, *args):\n",
        "        return sum(args)\n",
        "\n",
        "obj = MathOps()\n",
        "print(obj.add(2, 3))       # Output: 5\n",
        "print(obj.add(2, 3, 4, 5)) # Output: 14\n"
      ],
      "metadata": {
        "colab": {
          "base_uri": "https://localhost:8080/"
        },
        "id": "hOyIG9l7AWzF",
        "outputId": "52400025-8ba9-4e0b-8039-7d404f0949c4"
      },
      "execution_count": null,
      "outputs": [
        {
          "output_type": "stream",
          "name": "stdout",
          "text": [
            "5\n",
            "14\n"
          ]
        }
      ]
    },
    {
      "cell_type": "markdown",
      "source": [
        "#Iterators\n",
        "Beginner-Friendly Explanation of Iterators\n",
        "\n",
        "Think of a queue in a canteen 🍲:\n",
        "\n",
        "Students stand in a line.\n",
        "\n",
        "You don’t need to see the whole queue at once.\n",
        "\n",
        "You just say: “Next student, please!”\n",
        "\n",
        "One by one, each student comes forward.\n",
        "\n",
        "When the line ends, nobody is left → stop.\n",
        "\n",
        "👉 That’s exactly what an iterator does in Python:\n",
        "It gives you items one at a time, without showing or storing the whole collection at once.\n",
        "\n",
        "#Why is this useful?\n",
        "\n",
        "Saves memory: You don’t keep everything in memory, just the current item.\n",
        "\n",
        "Good for large data: e.g., reading a big CSV file row by row.\n",
        "\n",
        "Works nicely with loops (for, while)."
      ],
      "metadata": {
        "id": "jwS_Yb8-BBpy"
      }
    },
    {
      "cell_type": "code",
      "source": [
        "lst =[1,2,8,9,10]\n",
        "iterator_lst = iter(lst)  #make an iterator\n",
        "\n"
      ],
      "metadata": {
        "id": "KN8Fq4wKCtQD"
      },
      "execution_count": 11,
      "outputs": []
    },
    {
      "cell_type": "code",
      "source": [
        "next(iterator_lst)\n",
        "#iter(numbers) creates an iterator from the list.\n",
        "#next(it) fetches the next item.\n",
        "#When items are finished, Python raises StopIteration.\n",
        "\n",
        "#An iterator in Python is like a queue in a canteen — you get one item (student/row/value) at a time using next().\n",
        "#You don’t need to load everything at once, which makes it memory efficient and useful for big datasets."
      ],
      "metadata": {
        "id": "4yH4oIWlDGgp"
      },
      "execution_count": null,
      "outputs": []
    },
    {
      "cell_type": "code",
      "source": [
        "# using try except to avoid creating error.\n",
        "try:\n",
        "    print(next(iterator_lst))\n",
        "except StopIteration:\n",
        "    print(\"There are no elements in the iterator\")"
      ],
      "metadata": {
        "colab": {
          "base_uri": "https://localhost:8080/"
        },
        "id": "HNTZ-Zm0DMh_",
        "outputId": "7390100d-8b04-45b1-a257-bd376558b054"
      },
      "execution_count": 18,
      "outputs": [
        {
          "output_type": "stream",
          "name": "stdout",
          "text": [
            "There are no elements in the iterator\n"
          ]
        }
      ]
    },
    {
      "cell_type": "code",
      "source": [
        "# String iterator\n",
        "my_string = \"Hello\"\n",
        "string_iterator = iter(my_string)\n",
        "\n",
        "print(next(string_iterator))  # Output: H\n",
        "print(next(string_iterator))  # Output: e"
      ],
      "metadata": {
        "colab": {
          "base_uri": "https://localhost:8080/"
        },
        "id": "lBWo3DyuEOxk",
        "outputId": "5f493d40-cfe6-4135-9400-3299c59e189c"
      },
      "execution_count": 20,
      "outputs": [
        {
          "output_type": "stream",
          "name": "stdout",
          "text": [
            "H\n",
            "e\n"
          ]
        }
      ]
    },
    {
      "cell_type": "code",
      "source": [
        "# String iterator\n",
        "my_string = \"Hello\"\n",
        "string_iterator = iter(my_string)\n",
        "\n",
        "next(string_iterator)  # Output: H\n"
      ],
      "metadata": {
        "colab": {
          "base_uri": "https://localhost:8080/",
          "height": 36
        },
        "id": "t6Vg4xPmEgpr",
        "outputId": "0b69c686-4195-4882-d625-3a1821516a1a"
      },
      "execution_count": 26,
      "outputs": [
        {
          "output_type": "execute_result",
          "data": {
            "text/plain": [
              "'H'"
            ],
            "application/vnd.google.colaboratory.intrinsic+json": {
              "type": "string"
            }
          },
          "metadata": {},
          "execution_count": 26
        }
      ]
    },
    {
      "cell_type": "markdown",
      "source": [
        "#iterators (using iter() and next())\n",
        "\n",
        "Any collection (like a list) can give you an iterator if you call iter() on it.\n",
        "\n",
        "Then you use next() to get values one by one.\n",
        "\n",
        "To make an iterator, you need an iterable (like a list) or you need to write a class with __iter__ and __next__.\n",
        "\n",
        "# Generators (using yield)\n",
        "\n",
        "A generator is like a shortcut to create an iterator.\n",
        "\n",
        "You use yield inside a function, and Python automatically gives you an iterator.\n",
        "\n",
        "A generator is itself an iterator (so you can use next() on it).\n",
        "\n",
        "But instead of storing data in advance (like a list), it creates values on the fly using yield."
      ],
      "metadata": {
        "id": "LBt3jQNjG_hZ"
      }
    },
    {
      "cell_type": "code",
      "source": [
        "#generator\n",
        "\n",
        "def my_generator():\n",
        "    yield 10\n",
        "    yield 20\n",
        "    yield 30\n",
        "\n",
        "gen = my_generator()\n",
        "\n",
        "print(next(gen))  # 10\n",
        "print(next(gen))  # 20\n",
        "print(next(gen))  # 30\n"
      ],
      "metadata": {
        "colab": {
          "base_uri": "https://localhost:8080/"
        },
        "id": "FLT07M1bKi58",
        "outputId": "dfd05d98-2703-4115-9176-2336ada1c101"
      },
      "execution_count": 27,
      "outputs": [
        {
          "output_type": "stream",
          "name": "stdout",
          "text": [
            "10\n",
            "20\n",
            "30\n"
          ]
        }
      ]
    },
    {
      "cell_type": "code",
      "source": [
        "##### Practical Example: Reading Large Files\n",
        "#Generators are particularly useful for reading large files because they allow you to process one line at a time without loading the entire file into memory.\n",
        "\n",
        "def read_large_file(file_path):\n",
        "    with open(file_path,'r') as file:\n",
        "        for line in file:\n",
        "            yield line"
      ],
      "metadata": {
        "id": "2S63GTTpKk3X"
      },
      "execution_count": 28,
      "outputs": []
    },
    {
      "cell_type": "code",
      "source": [
        "file_path='text.txt'\n",
        "\n",
        "for line in read_large_file(file_path):\n",
        "    print(line.strip())"
      ],
      "metadata": {
        "id": "WLZdITVdKz53"
      },
      "execution_count": null,
      "outputs": []
    },
    {
      "cell_type": "code",
      "source": [
        "# Function copy\n",
        "#In Python, functions are objects — just like numbers, strings, or lists.\n",
        "#That means you can copy a function by assigning it to another variable.\n",
        "\n",
        "def greet():\n",
        "    print(\"Hello!\")\n",
        "\n",
        "say_hello = greet   # copy function reference\n",
        "say_hello()         # works the same as greet()\n",
        "\n",
        "#say_hello is just another name (a copy of the function reference).\n",
        "\n",
        "#Both greet() and say_hello() point to the same function."
      ],
      "metadata": {
        "colab": {
          "base_uri": "https://localhost:8080/"
        },
        "id": "1o4W_f_LrM2p",
        "outputId": "032f267b-80e1-4628-81ac-f559d5ea3b31"
      },
      "execution_count": 1,
      "outputs": [
        {
          "output_type": "stream",
          "name": "stdout",
          "text": [
            "Hello!\n"
          ]
        }
      ]
    },
    {
      "cell_type": "markdown",
      "source": [
        "# Closure Function\n",
        "Structure of a Closure\n",
        "\n",
        "A closure is formed when:\n",
        "\n",
        "We have a nested function (function inside another function).\n",
        "\n",
        "The inner function uses variables from the outer function.\n",
        "\n",
        "The outer function returns the inner function."
      ],
      "metadata": {
        "id": "8zBS3Qqtvxrl"
      }
    },
    {
      "cell_type": "code",
      "source": [
        "def outer_function(msg):\n",
        "    def inner_function():\n",
        "        print(\"Message:\", msg)   # inner function remembers 'msg'\n",
        "    return inner_function   # return inner function (not executed yet)\n",
        "\n",
        "# Create closure\n",
        "my_closure = outer_function(\"Hello Closure!\")\n",
        "\n",
        "# Call inner function\n",
        "my_closure()   # Output: Message: Hello Closure!\n"
      ],
      "metadata": {
        "colab": {
          "base_uri": "https://localhost:8080/"
        },
        "id": "QnvHw-dEv4F4",
        "outputId": "a335c1a6-2f1b-4361-d74c-a6b15abaeddb"
      },
      "execution_count": 2,
      "outputs": [
        {
          "output_type": "stream",
          "name": "stdout",
          "text": [
            "Message: Hello Closure!\n"
          ]
        }
      ]
    },
    {
      "cell_type": "markdown",
      "source": [
        "# Decorator\n",
        "\n",
        "A decorator is a special function in Python that allows you to add new functionality to an existing function without changing its code.\n",
        "\n",
        "How Decorators Work\n",
        "\n",
        "Decorators use closures internally.\n",
        "\n",
        "You have an outer function (decorator).\n",
        "\n",
        "Inside it, you define an inner wrapper function.\n",
        "\n",
        "The outer function returns the wrapper, which adds extra features.\n",
        "\n",
        "Syntax uses @decorator_name."
      ],
      "metadata": {
        "id": "-t5Q3jVp0Ner"
      }
    },
    {
      "cell_type": "code",
      "source": [
        "def my_decorator(func):\n",
        "    def wrapper():\n",
        "        print(\"Before function runs\")\n",
        "        func()\n",
        "        print(\"After function runs\")\n",
        "    return wrapper\n",
        "\n",
        "@my_decorator\n",
        "def say_hello():\n",
        "    print(\"Hello, Data Science!\")\n",
        "\n",
        "say_hello()\n"
      ],
      "metadata": {
        "colab": {
          "base_uri": "https://localhost:8080/"
        },
        "id": "IeeSVe-Y0c2G",
        "outputId": "47638f42-a07a-467f-c82d-bf2ac8d0c7b4"
      },
      "execution_count": 3,
      "outputs": [
        {
          "output_type": "stream",
          "name": "stdout",
          "text": [
            "Before function runs\n",
            "Hello, Data Science!\n",
            "After function runs\n"
          ]
        }
      ]
    },
    {
      "cell_type": "markdown",
      "source": [
        "#List Comprehension\n",
        "A list comprehension is a shorter way to create lists in Python.\n",
        "Instead of writing a loop + append, you can build a list in one line.\n"
      ],
      "metadata": {
        "id": "oGt6LRYW3Esj"
      }
    },
    {
      "cell_type": "code",
      "source": [
        "#Example 1: Squaring numbers (normal way)\n",
        "squares = []\n",
        "for i in range(5):\n",
        "    squares.append(i**2)\n",
        "print(squares)\n"
      ],
      "metadata": {
        "colab": {
          "base_uri": "https://localhost:8080/"
        },
        "id": "l1YUmKde0Mpx",
        "outputId": "d4732643-c34b-42e4-e9ea-974bb898dcf4"
      },
      "execution_count": 4,
      "outputs": [
        {
          "output_type": "stream",
          "name": "stdout",
          "text": [
            "[0, 1, 4, 9, 16]\n"
          ]
        }
      ]
    },
    {
      "cell_type": "code",
      "source": [
        "#List comprehension way:\n",
        "squares =[i**2 for i in range(5)]\n",
        "print(squares)\n"
      ],
      "metadata": {
        "colab": {
          "base_uri": "https://localhost:8080/"
        },
        "id": "ZTLZtHB03Xl0",
        "outputId": "0badcd05-d46f-4307-9820-155194afb8ee"
      },
      "execution_count": 6,
      "outputs": [
        {
          "output_type": "stream",
          "name": "stdout",
          "text": [
            "[0, 1, 4, 9, 16]\n"
          ]
        }
      ]
    },
    {
      "cell_type": "code",
      "source": [
        "# Example 2: Data Cleaning – Removing Nulls\n",
        "text = [\"  apple \", \" banana\", \"cherry  \"]\n",
        "cleaned_data = [x for x in text if x]\n",
        "print(cleaned_data)"
      ],
      "metadata": {
        "colab": {
          "base_uri": "https://localhost:8080/"
        },
        "id": "zhwzpeJl3pvo",
        "outputId": "2be87cd3-4b64-4fdf-897a-9cd8ec30e186"
      },
      "execution_count": 10,
      "outputs": [
        {
          "output_type": "stream",
          "name": "stdout",
          "text": [
            "['  apple ', ' banana', 'cherry  ']\n"
          ]
        }
      ]
    },
    {
      "cell_type": "code",
      "source": [
        "text = [\"  apple \", \" banana\", \"cHerry  \"]\n",
        "\n",
        "cleaned =[x.strip().lower() for x in text]\n",
        "print(cleaned)"
      ],
      "metadata": {
        "colab": {
          "base_uri": "https://localhost:8080/"
        },
        "id": "pqQgyR5W4OOs",
        "outputId": "62be953f-58b5-4422-ac71-2824f937cdf8"
      },
      "execution_count": 14,
      "outputs": [
        {
          "output_type": "stream",
          "name": "stdout",
          "text": [
            "['apple', 'banana', 'cherry']\n"
          ]
        }
      ]
    },
    {
      "cell_type": "code",
      "source": [
        "#Extract only numeric values\n",
        "data = [\"23\", \"apple\", \"42\", \"banana\", \"100\"]\n",
        "num =[int(x) for x in data if x.isdigit()]\n",
        "print(num)"
      ],
      "metadata": {
        "colab": {
          "base_uri": "https://localhost:8080/"
        },
        "id": "FKq1fqO94sUr",
        "outputId": "8c2f5450-bd7b-4234-a50e-e73f35f48f1b"
      },
      "execution_count": 16,
      "outputs": [
        {
          "output_type": "stream",
          "name": "stdout",
          "text": [
            "[23, 42, 100]\n"
          ]
        }
      ]
    },
    {
      "cell_type": "markdown",
      "source": [
        "#Generator Expression\n",
        "\n",
        "A generator expression is just like a list comprehension, but it uses round brackets () instead of square brackets []."
      ],
      "metadata": {
        "id": "KUTRK4A76aWS"
      }
    },
    {
      "cell_type": "code",
      "source": [
        "num =(x**2 for x in range(5))\n",
        "print(num)"
      ],
      "metadata": {
        "colab": {
          "base_uri": "https://localhost:8080/"
        },
        "id": "RuDyDU0z5nGU",
        "outputId": "f60b1fb4-0689-444f-a856-7e5bcf2de856"
      },
      "execution_count": 17,
      "outputs": [
        {
          "output_type": "stream",
          "name": "stdout",
          "text": [
            "<generator object <genexpr> at 0x7bb1260d8040>\n"
          ]
        }
      ]
    },
    {
      "cell_type": "code",
      "source": [
        "#to accsess num:\n",
        "\n",
        "for i in num:\n",
        "  print(i)\n",
        "\n",
        "# [x*x for x in range(5)] → creates a full list in memory.\n",
        "\n",
        "# (x*x for x in range(5)) → creates a generator, calculates values only when needed."
      ],
      "metadata": {
        "colab": {
          "base_uri": "https://localhost:8080/"
        },
        "id": "n5yHGfyG6l4Y",
        "outputId": "03a9dae6-9ff8-4f8a-f4c8-21258a3c5d07"
      },
      "execution_count": 18,
      "outputs": [
        {
          "output_type": "stream",
          "name": "stdout",
          "text": [
            "0\n",
            "1\n",
            "4\n",
            "9\n",
            "16\n"
          ]
        }
      ]
    },
    {
      "cell_type": "markdown",
      "source": [
        "Why Do Data Scientists Care?\n",
        "\n",
        "Data science often deals with large datasets (millions of rows).\n",
        "\n",
        "List comprehension: uses more memory (stores everything).\n",
        "\n",
        "Generator expression: saves memory (generates one by one).\n",
        "\n",
        "\n",
        "\n",
        "#Q1: Difference between list comprehension and generator expression?\n",
        "\n",
        "List comprehension → [ ], eager, stores all results in memory.\n",
        "\n",
        "Generator expression → ( ), lazy, produces one value at a time.\n",
        "\n",
        "\n",
        "#Q2: When to prefer generator expression?\n",
        "\n",
        "When data is large (big files, streams, millions of records).\n",
        "\n",
        "When you don’t need to store everything at once."
      ],
      "metadata": {
        "id": "CHbBO5jd6-pd"
      }
    },
    {
      "cell_type": "code",
      "source": [
        "#Can you use generator expressions with functions like sum() or max()?\n",
        "\n",
        "num =(i for i in range(1,10))\n",
        "total =sum(num)\n",
        "\n",
        "print(total)\n"
      ],
      "metadata": {
        "colab": {
          "base_uri": "https://localhost:8080/"
        },
        "id": "EOorq45Z6wAG",
        "outputId": "a734cf40-0189-4350-a71e-61a5a72aaf6e"
      },
      "execution_count": 21,
      "outputs": [
        {
          "output_type": "stream",
          "name": "stdout",
          "text": [
            "45\n"
          ]
        }
      ]
    },
    {
      "cell_type": "markdown",
      "source": [
        "Local scope → inside a function or block\n",
        "\n",
        "Global scope → outside all functions (accessible anywhere in the file)"
      ],
      "metadata": {
        "id": "NQQ-KEXC93WQ"
      }
    },
    {
      "cell_type": "code",
      "source": [
        "x =4  # global variable\n",
        "def func():\n",
        "    y = 5  # local\n",
        "    print(y)  # accessing local varaible inside function, which is possible\n",
        "    print(x)  # accessing global varaible inside function, which is possible\n",
        "\n",
        "func()      # 5\n",
        "#print(y)  # ❌ NameError, accessing local varaible outside function, which is not possible\n"
      ],
      "metadata": {
        "colab": {
          "base_uri": "https://localhost:8080/"
        },
        "id": "t9kd7teL7y3s",
        "outputId": "4168d03f-2dea-4191-e6ae-3d809b244d0c"
      },
      "execution_count": 28,
      "outputs": [
        {
          "output_type": "stream",
          "name": "stdout",
          "text": [
            "5\n",
            "4\n"
          ]
        }
      ]
    },
    {
      "cell_type": "code",
      "source": [],
      "metadata": {
        "id": "aNxdOWRX9_qs"
      },
      "execution_count": null,
      "outputs": []
    }
  ],
  "metadata": {
    "colab": {
      "provenance": [],
      "authorship_tag": "ABX9TyNpk3FDhl8nakv2SzcJbYN0",
      "include_colab_link": true
    },
    "kernelspec": {
      "display_name": "Python 3",
      "name": "python3"
    },
    "language_info": {
      "name": "python"
    }
  },
  "nbformat": 4,
  "nbformat_minor": 0
}